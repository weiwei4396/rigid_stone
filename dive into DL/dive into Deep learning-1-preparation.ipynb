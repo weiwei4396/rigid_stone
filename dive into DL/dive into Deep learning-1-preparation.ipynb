{
 "cells": [
  {
   "cell_type": "markdown",
   "metadata": {},
   "source": [
    "# 2.1 data process"
   ]
  },
  {
   "cell_type": "code",
   "execution_count": 2,
   "metadata": {},
   "outputs": [],
   "source": [
    "import torch"
   ]
  },
  {
   "cell_type": "code",
   "execution_count": 7,
   "metadata": {},
   "outputs": [
    {
     "name": "stdout",
     "output_type": "stream",
     "text": [
      "tensor([ 0,  1,  2,  3,  4,  5,  6,  7,  8,  9, 10, 11])\n"
     ]
    },
    {
     "data": {
      "text/plain": [
       "12"
      ]
     },
     "execution_count": 7,
     "metadata": {},
     "output_type": "execute_result"
    }
   ],
   "source": [
    "x = torch.arange(12)\n",
    "print(x)\n",
    "x.numel()"
   ]
  },
  {
   "cell_type": "code",
   "execution_count": 11,
   "metadata": {},
   "outputs": [
    {
     "data": {
      "text/plain": [
       "tensor([[ 0,  1,  2,  3],\n",
       "        [ 4,  5,  6,  7],\n",
       "        [ 8,  9, 10, 11]])"
      ]
     },
     "execution_count": 11,
     "metadata": {},
     "output_type": "execute_result"
    }
   ],
   "source": [
    "X = x.reshape(3,4)\n",
    "X"
   ]
  },
  {
   "cell_type": "code",
   "execution_count": 14,
   "metadata": {},
   "outputs": [
    {
     "name": "stdout",
     "output_type": "stream",
     "text": [
      "tensor([[0., 0., 0., 0.],\n",
      "        [0., 0., 0., 0.],\n",
      "        [0., 0., 0., 0.]])\n"
     ]
    },
    {
     "data": {
      "text/plain": [
       "tensor([[1., 1., 1., 1.],\n",
       "        [1., 1., 1., 1.],\n",
       "        [1., 1., 1., 1.]])"
      ]
     },
     "execution_count": 14,
     "metadata": {},
     "output_type": "execute_result"
    }
   ],
   "source": [
    "z = torch.zeros((3,4))\n",
    "print(z)\n",
    "zz = torch.ones((3,4))\n",
    "zz"
   ]
  },
  {
   "cell_type": "code",
   "execution_count": 16,
   "metadata": {},
   "outputs": [
    {
     "data": {
      "text/plain": [
       "tensor([[ 0.0597,  0.1513,  1.4466, -0.5141],\n",
       "        [ 0.4419,  1.2627, -1.1750,  0.6874],\n",
       "        [ 1.3470,  0.7999,  2.3413,  0.8398]])"
      ]
     },
     "execution_count": 16,
     "metadata": {},
     "output_type": "execute_result"
    }
   ],
   "source": [
    "# mean=0,std=1 gaussian\n",
    "torch.randn(3, 4)"
   ]
  },
  {
   "cell_type": "code",
   "execution_count": 17,
   "metadata": {},
   "outputs": [
    {
     "data": {
      "text/plain": [
       "tensor([[2, 1, 4, 3],\n",
       "        [1, 2, 3, 4],\n",
       "        [4, 3, 2, 1]])"
      ]
     },
     "execution_count": 17,
     "metadata": {},
     "output_type": "execute_result"
    }
   ],
   "source": [
    "torch.tensor([[2, 1, 4, 3], [1, 2, 3, 4], [4, 3, 2, 1]])"
   ]
  },
  {
   "cell_type": "code",
   "execution_count": 18,
   "metadata": {},
   "outputs": [
    {
     "data": {
      "text/plain": [
       "(tensor([ 3.,  4.,  6., 10.]),\n",
       " tensor([-1.,  0.,  2.,  6.]),\n",
       " tensor([ 2.,  4.,  8., 16.]),\n",
       " tensor([0.5000, 1.0000, 2.0000, 4.0000]),\n",
       " tensor([ 1.,  4., 16., 64.]))"
      ]
     },
     "execution_count": 18,
     "metadata": {},
     "output_type": "execute_result"
    }
   ],
   "source": [
    "x = torch.tensor([1.0, 2, 4, 8])\n",
    "y = torch.tensor([2, 2, 2, 2])\n",
    "x + y, x - y, x * y, x / y, x ** y  # **运算符是求幂运算"
   ]
  },
  {
   "cell_type": "code",
   "execution_count": 19,
   "metadata": {},
   "outputs": [
    {
     "data": {
      "text/plain": [
       "tensor([2.7183e+00, 7.3891e+00, 5.4598e+01, 2.9810e+03])"
      ]
     },
     "execution_count": 19,
     "metadata": {},
     "output_type": "execute_result"
    }
   ],
   "source": [
    "torch.exp(x)"
   ]
  },
  {
   "cell_type": "code",
   "execution_count": 20,
   "metadata": {},
   "outputs": [
    {
     "data": {
      "text/plain": [
       "(tensor([[ 0.,  1.,  2.,  3.],\n",
       "         [ 4.,  5.,  6.,  7.],\n",
       "         [ 8.,  9., 10., 11.],\n",
       "         [ 2.,  1.,  4.,  3.],\n",
       "         [ 1.,  2.,  3.,  4.],\n",
       "         [ 4.,  3.,  2.,  1.]]),\n",
       " tensor([[ 0.,  1.,  2.,  3.,  2.,  1.,  4.,  3.],\n",
       "         [ 4.,  5.,  6.,  7.,  1.,  2.,  3.,  4.],\n",
       "         [ 8.,  9., 10., 11.,  4.,  3.,  2.,  1.]]))"
      ]
     },
     "execution_count": 20,
     "metadata": {},
     "output_type": "execute_result"
    }
   ],
   "source": [
    "X = torch.arange(12, dtype=torch.float32).reshape((3,4))\n",
    "Y = torch.tensor([[2.0, 1, 4, 3], [1, 2, 3, 4], [4, 3, 2, 1]])\n",
    "torch.cat((X, Y), dim=0), torch.cat((X, Y), dim=1)"
   ]
  },
  {
   "cell_type": "code",
   "execution_count": 21,
   "metadata": {},
   "outputs": [
    {
     "data": {
      "text/plain": [
       "tensor([[False,  True, False,  True],\n",
       "        [False, False, False, False],\n",
       "        [False, False, False, False]])"
      ]
     },
     "execution_count": 21,
     "metadata": {},
     "output_type": "execute_result"
    }
   ],
   "source": [
    "X == Y"
   ]
  },
  {
   "cell_type": "code",
   "execution_count": 22,
   "metadata": {},
   "outputs": [
    {
     "data": {
      "text/plain": [
       "(tensor([[0],\n",
       "         [1],\n",
       "         [2]]),\n",
       " tensor([[0, 1]]))"
      ]
     },
     "execution_count": 22,
     "metadata": {},
     "output_type": "execute_result"
    }
   ],
   "source": [
    "a = torch.arange(3).reshape((3, 1))\n",
    "b = torch.arange(2).reshape((1, 2))\n",
    "a, b"
   ]
  },
  {
   "cell_type": "code",
   "execution_count": 23,
   "metadata": {},
   "outputs": [
    {
     "data": {
      "text/plain": [
       "tensor([[0, 1],\n",
       "        [1, 2],\n",
       "        [2, 3]])"
      ]
     },
     "execution_count": 23,
     "metadata": {},
     "output_type": "execute_result"
    }
   ],
   "source": [
    "a + b"
   ]
  },
  {
   "cell_type": "code",
   "execution_count": 24,
   "metadata": {},
   "outputs": [
    {
     "data": {
      "text/plain": [
       "(tensor([ 8.,  9., 10., 11.]),\n",
       " tensor([[ 4.,  5.,  6.,  7.],\n",
       "         [ 8.,  9., 10., 11.]]))"
      ]
     },
     "execution_count": 24,
     "metadata": {},
     "output_type": "execute_result"
    }
   ],
   "source": [
    "X[-1], X[1:3]"
   ]
  },
  {
   "cell_type": "code",
   "execution_count": 26,
   "metadata": {},
   "outputs": [
    {
     "name": "stdout",
     "output_type": "stream",
     "text": [
      "tensor([[ 0.,  1.,  2.,  3.],\n",
      "        [ 4.,  5.,  9.,  7.],\n",
      "        [ 8.,  9., 10., 11.]])\n"
     ]
    },
    {
     "data": {
      "text/plain": [
       "tensor([[12., 12., 12., 12.],\n",
       "        [12., 12., 12., 12.],\n",
       "        [ 8.,  9., 10., 11.]])"
      ]
     },
     "execution_count": 26,
     "metadata": {},
     "output_type": "execute_result"
    }
   ],
   "source": [
    "X[1, 2] = 9\n",
    "print(X)\n",
    "X[0:2, :] = 12\n",
    "X"
   ]
  },
  {
   "cell_type": "code",
   "execution_count": 27,
   "metadata": {},
   "outputs": [
    {
     "data": {
      "text/plain": [
       "(numpy.ndarray, torch.Tensor)"
      ]
     },
     "execution_count": 27,
     "metadata": {},
     "output_type": "execute_result"
    }
   ],
   "source": [
    "A = X.numpy()\n",
    "B = torch.tensor(A)\n",
    "type(A), type(B)"
   ]
  },
  {
   "cell_type": "code",
   "execution_count": 28,
   "metadata": {},
   "outputs": [
    {
     "data": {
      "text/plain": [
       "(tensor([3.5000]), 3.5, 3.5, 3)"
      ]
     },
     "execution_count": 28,
     "metadata": {},
     "output_type": "execute_result"
    }
   ],
   "source": [
    "a = torch.tensor([3.5])\n",
    "a, a.item(), float(a), int(a)"
   ]
  },
  {
   "cell_type": "markdown",
   "metadata": {},
   "source": [
    "# 2.5 automatic differentiation"
   ]
  },
  {
   "cell_type": "code",
   "execution_count": 57,
   "metadata": {},
   "outputs": [
    {
     "data": {
      "text/plain": [
       "tensor([0., 1., 2., 3.])"
      ]
     },
     "execution_count": 57,
     "metadata": {},
     "output_type": "execute_result"
    }
   ],
   "source": [
    "import torch\n",
    "x = torch.arange(4.0)\n",
    "x"
   ]
  },
  {
   "cell_type": "code",
   "execution_count": 58,
   "metadata": {},
   "outputs": [],
   "source": [
    "x.requires_grad_(True)  # 等价于x=torch.arange(4.0,requires_grad=True)\n",
    "x.grad  # 默认值是None"
   ]
  },
  {
   "cell_type": "code",
   "execution_count": 59,
   "metadata": {},
   "outputs": [
    {
     "data": {
      "text/plain": [
       "tensor(28., grad_fn=<MulBackward0>)"
      ]
     },
     "execution_count": 59,
     "metadata": {},
     "output_type": "execute_result"
    }
   ],
   "source": [
    "y = 2 * torch.dot(x, x)\n",
    "y"
   ]
  },
  {
   "cell_type": "code",
   "execution_count": 60,
   "metadata": {},
   "outputs": [
    {
     "data": {
      "text/plain": [
       "tensor([ 0.,  4.,  8., 12.])"
      ]
     },
     "execution_count": 60,
     "metadata": {},
     "output_type": "execute_result"
    }
   ],
   "source": [
    "y.backward()\n",
    "x.grad"
   ]
  },
  {
   "cell_type": "code",
   "execution_count": 61,
   "metadata": {},
   "outputs": [
    {
     "data": {
      "text/plain": [
       "tensor([True, True, True, True])"
      ]
     },
     "execution_count": 61,
     "metadata": {},
     "output_type": "execute_result"
    }
   ],
   "source": [
    "x.grad == 4 * x"
   ]
  },
  {
   "cell_type": "code",
   "execution_count": 62,
   "metadata": {},
   "outputs": [
    {
     "data": {
      "text/plain": [
       "tensor([1., 1., 1., 1.])"
      ]
     },
     "execution_count": 62,
     "metadata": {},
     "output_type": "execute_result"
    }
   ],
   "source": [
    "# 在默认情况下，PyTorch会累积梯度，我们需要清除之前的值\n",
    "x.grad.zero_()\n",
    "y = x.sum()\n",
    "y.backward()\n",
    "x.grad"
   ]
  },
  {
   "cell_type": "code",
   "execution_count": 63,
   "metadata": {},
   "outputs": [
    {
     "data": {
      "text/plain": [
       "tensor([0., 2., 4., 6.])"
      ]
     },
     "execution_count": 63,
     "metadata": {},
     "output_type": "execute_result"
    }
   ],
   "source": [
    "# 对非标量调用backward需要传入一个gradient参数，该参数指定微分函数关于self的梯度。\n",
    "# 在我们的例子中，我们只想求偏导数的和，所以传递一个1的梯度是合适的\n",
    "x.grad.zero_()\n",
    "y = x * x\n",
    "# 等价于y.backward(torch.ones(len(x)))\n",
    "y.sum().backward()\n",
    "x.grad"
   ]
  },
  {
   "cell_type": "code",
   "execution_count": 65,
   "metadata": {},
   "outputs": [
    {
     "data": {
      "text/plain": [
       "'\\nx.grad.zero_()\\ny = x * x\\nu = y.detach()\\nz = u * x\\nz.sum().backward()\\nx.grad == u\\n'"
      ]
     },
     "execution_count": 65,
     "metadata": {},
     "output_type": "execute_result"
    }
   ],
   "source": [
    "x.grad.zero_()\n",
    "y = x * x\n",
    "u = y.detach()\n",
    "z = u * x\n",
    "z.sum().backward()\n",
    "x.grad == u"
   ]
  },
  {
   "cell_type": "code",
   "execution_count": 81,
   "metadata": {},
   "outputs": [
    {
     "data": {
      "text/plain": [
       "tensor([True, True, True, True])"
      ]
     },
     "execution_count": 81,
     "metadata": {},
     "output_type": "execute_result"
    }
   ],
   "source": [
    "x.grad.zero_()\n",
    "y.sum().backward()\n",
    "x.grad == 2 * x"
   ]
  },
  {
   "cell_type": "code",
   "execution_count": 83,
   "metadata": {},
   "outputs": [],
   "source": [
    "def f(a):\n",
    "    b = a * 2\n",
    "    while b.norm() < 1000:\n",
    "        b = b * 2\n",
    "    if b.sum() > 0:\n",
    "        c = b\n",
    "    else:\n",
    "        c = 100 * b\n",
    "    return c"
   ]
  },
  {
   "cell_type": "code",
   "execution_count": 86,
   "metadata": {},
   "outputs": [
    {
     "name": "stdout",
     "output_type": "stream",
     "text": [
      "tensor(0.7893, requires_grad=True)\n",
      "tensor(2048.)\n"
     ]
    }
   ],
   "source": [
    "a = torch.randn(size=(), requires_grad=True)\n",
    "print(a)\n",
    "d = f(a)\n",
    "d.backward()\n",
    "print(a.grad)"
   ]
  },
  {
   "cell_type": "code",
   "execution_count": 87,
   "metadata": {},
   "outputs": [
    {
     "data": {
      "text/plain": [
       "tensor(True)"
      ]
     },
     "execution_count": 87,
     "metadata": {},
     "output_type": "execute_result"
    }
   ],
   "source": [
    "a.grad == d / a"
   ]
  },
  {
   "cell_type": "markdown",
   "metadata": {},
   "source": [
    "# 2.6 probably"
   ]
  },
  {
   "cell_type": "code",
   "execution_count": 1,
   "metadata": {},
   "outputs": [],
   "source": [
    "%matplotlib inline\n",
    "import torch\n",
    "from torch.distributions import multinomial\n",
    "from d2l import torch as d2l"
   ]
  },
  {
   "cell_type": "code",
   "execution_count": 4,
   "metadata": {},
   "outputs": [
    {
     "data": {
      "text/plain": [
       "tensor([0., 1., 0., 0., 0., 0.])"
      ]
     },
     "execution_count": 4,
     "metadata": {},
     "output_type": "execute_result"
    }
   ],
   "source": [
    "fair_probs = torch.ones([6]) / 6\n",
    "multinomial.Multinomial(1, fair_probs).sample()"
   ]
  },
  {
   "cell_type": "code",
   "execution_count": 6,
   "metadata": {},
   "outputs": [
    {
     "data": {
      "text/plain": [
       "tensor([2., 1., 1., 1., 3., 2.])"
      ]
     },
     "execution_count": 6,
     "metadata": {},
     "output_type": "execute_result"
    }
   ],
   "source": [
    "multinomial.Multinomial(10, fair_probs).sample()"
   ]
  },
  {
   "cell_type": "code",
   "execution_count": 7,
   "metadata": {},
   "outputs": [
    {
     "data": {
      "text/plain": [
       "tensor([0.1470, 0.1670, 0.1510, 0.1760, 0.1710, 0.1880])"
      ]
     },
     "execution_count": 7,
     "metadata": {},
     "output_type": "execute_result"
    }
   ],
   "source": [
    "# 将结果存储为32位浮点数以进行除法\n",
    "counts = multinomial.Multinomial(1000, fair_probs).sample()\n",
    "counts / 1000  # 相对频率作为估计值"
   ]
  },
  {
   "cell_type": "code",
   "execution_count": 9,
   "metadata": {},
   "outputs": [
    {
     "data": {
      "image/svg+xml": "<?xml version=\"1.0\" encoding=\"utf-8\" standalone=\"no\"?>\n<!DOCTYPE svg PUBLIC \"-//W3C//DTD SVG 1.1//EN\"\n  \"http://www.w3.org/Graphics/SVG/1.1/DTD/svg11.dtd\">\n<svg xmlns:xlink=\"http://www.w3.org/1999/xlink\" width=\"392.14375pt\" height=\"289.37625pt\" viewBox=\"0 0 392.14375 289.37625\" xmlns=\"http://www.w3.org/2000/svg\" version=\"1.1\">\n <metadata>\n  <rdf:RDF xmlns:dc=\"http://purl.org/dc/elements/1.1/\" xmlns:cc=\"http://creativecommons.org/ns#\" xmlns:rdf=\"http://www.w3.org/1999/02/22-rdf-syntax-ns#\">\n   <cc:Work>\n    <dc:type rdf:resource=\"http://purl.org/dc/dcmitype/StillImage\"/>\n    <dc:date>2022-09-26T16:17:32.534872</dc:date>\n    <dc:format>image/svg+xml</dc:format>\n    <dc:creator>\n     <cc:Agent>\n      <dc:title>Matplotlib v3.5.1, https://matplotlib.org/</dc:title>\n     </cc:Agent>\n    </dc:creator>\n   </cc:Work>\n  </rdf:RDF>\n </metadata>\n <defs>\n  <style type=\"text/css\">*{stroke-linejoin: round; stroke-linecap: butt}</style>\n </defs>\n <g id=\"figure_1\">\n  <g id=\"patch_1\">\n   <path d=\"M 0 289.37625 \nL 392.14375 289.37625 \nL 392.14375 0 \nL 0 0 \nL 0 289.37625 \nz\n\" style=\"fill: none\"/>\n  </g>\n  <g id=\"axes_1\">\n   <g id=\"patch_2\">\n    <path d=\"M 50.14375 251.82 \nL 384.94375 251.82 \nL 384.94375 7.2 \nL 50.14375 7.2 \nz\n\" style=\"fill: #ffffff\"/>\n   </g>\n   <g id=\"matplotlib.axis_1\">\n    <g id=\"xtick_1\">\n     <g id=\"line2d_1\">\n      <defs>\n       <path id=\"mc6d7401a39\" d=\"M 0 0 \nL 0 3.5 \n\" style=\"stroke: #000000; stroke-width: 0.8\"/>\n      </defs>\n      <g>\n       <use xlink:href=\"#mc6d7401a39\" x=\"65.361932\" y=\"251.82\" style=\"stroke: #000000; stroke-width: 0.8\"/>\n      </g>\n     </g>\n     <g id=\"text_1\">\n      <!-- 0 -->\n      <g transform=\"translate(62.180682 266.418437)scale(0.1 -0.1)\">\n       <defs>\n        <path id=\"DejaVuSans-30\" d=\"M 2034 4250 \nQ 1547 4250 1301 3770 \nQ 1056 3291 1056 2328 \nQ 1056 1369 1301 889 \nQ 1547 409 2034 409 \nQ 2525 409 2770 889 \nQ 3016 1369 3016 2328 \nQ 3016 3291 2770 3770 \nQ 2525 4250 2034 4250 \nz\nM 2034 4750 \nQ 2819 4750 3233 4129 \nQ 3647 3509 3647 2328 \nQ 3647 1150 3233 529 \nQ 2819 -91 2034 -91 \nQ 1250 -91 836 529 \nQ 422 1150 422 2328 \nQ 422 3509 836 4129 \nQ 1250 4750 2034 4750 \nz\n\" transform=\"scale(0.015625)\"/>\n       </defs>\n       <use xlink:href=\"#DejaVuSans-30\"/>\n      </g>\n     </g>\n    </g>\n    <g id=\"xtick_2\">\n     <g id=\"line2d_2\">\n      <g>\n       <use xlink:href=\"#mc6d7401a39\" x=\"126.356649\" y=\"251.82\" style=\"stroke: #000000; stroke-width: 0.8\"/>\n      </g>\n     </g>\n     <g id=\"text_2\">\n      <!-- 100 -->\n      <g transform=\"translate(116.812899 266.418437)scale(0.1 -0.1)\">\n       <defs>\n        <path id=\"DejaVuSans-31\" d=\"M 794 531 \nL 1825 531 \nL 1825 4091 \nL 703 3866 \nL 703 4441 \nL 1819 4666 \nL 2450 4666 \nL 2450 531 \nL 3481 531 \nL 3481 0 \nL 794 0 \nL 794 531 \nz\n\" transform=\"scale(0.015625)\"/>\n       </defs>\n       <use xlink:href=\"#DejaVuSans-31\"/>\n       <use xlink:href=\"#DejaVuSans-30\" x=\"63.623047\"/>\n       <use xlink:href=\"#DejaVuSans-30\" x=\"127.246094\"/>\n      </g>\n     </g>\n    </g>\n    <g id=\"xtick_3\">\n     <g id=\"line2d_3\">\n      <g>\n       <use xlink:href=\"#mc6d7401a39\" x=\"187.351365\" y=\"251.82\" style=\"stroke: #000000; stroke-width: 0.8\"/>\n      </g>\n     </g>\n     <g id=\"text_3\">\n      <!-- 200 -->\n      <g transform=\"translate(177.807615 266.418437)scale(0.1 -0.1)\">\n       <defs>\n        <path id=\"DejaVuSans-32\" d=\"M 1228 531 \nL 3431 531 \nL 3431 0 \nL 469 0 \nL 469 531 \nQ 828 903 1448 1529 \nQ 2069 2156 2228 2338 \nQ 2531 2678 2651 2914 \nQ 2772 3150 2772 3378 \nQ 2772 3750 2511 3984 \nQ 2250 4219 1831 4219 \nQ 1534 4219 1204 4116 \nQ 875 4013 500 3803 \nL 500 4441 \nQ 881 4594 1212 4672 \nQ 1544 4750 1819 4750 \nQ 2544 4750 2975 4387 \nQ 3406 4025 3406 3419 \nQ 3406 3131 3298 2873 \nQ 3191 2616 2906 2266 \nQ 2828 2175 2409 1742 \nQ 1991 1309 1228 531 \nz\n\" transform=\"scale(0.015625)\"/>\n       </defs>\n       <use xlink:href=\"#DejaVuSans-32\"/>\n       <use xlink:href=\"#DejaVuSans-30\" x=\"63.623047\"/>\n       <use xlink:href=\"#DejaVuSans-30\" x=\"127.246094\"/>\n      </g>\n     </g>\n    </g>\n    <g id=\"xtick_4\">\n     <g id=\"line2d_4\">\n      <g>\n       <use xlink:href=\"#mc6d7401a39\" x=\"248.346082\" y=\"251.82\" style=\"stroke: #000000; stroke-width: 0.8\"/>\n      </g>\n     </g>\n     <g id=\"text_4\">\n      <!-- 300 -->\n      <g transform=\"translate(238.802332 266.418437)scale(0.1 -0.1)\">\n       <defs>\n        <path id=\"DejaVuSans-33\" d=\"M 2597 2516 \nQ 3050 2419 3304 2112 \nQ 3559 1806 3559 1356 \nQ 3559 666 3084 287 \nQ 2609 -91 1734 -91 \nQ 1441 -91 1130 -33 \nQ 819 25 488 141 \nL 488 750 \nQ 750 597 1062 519 \nQ 1375 441 1716 441 \nQ 2309 441 2620 675 \nQ 2931 909 2931 1356 \nQ 2931 1769 2642 2001 \nQ 2353 2234 1838 2234 \nL 1294 2234 \nL 1294 2753 \nL 1863 2753 \nQ 2328 2753 2575 2939 \nQ 2822 3125 2822 3475 \nQ 2822 3834 2567 4026 \nQ 2313 4219 1838 4219 \nQ 1578 4219 1281 4162 \nQ 984 4106 628 3988 \nL 628 4550 \nQ 988 4650 1302 4700 \nQ 1616 4750 1894 4750 \nQ 2613 4750 3031 4423 \nQ 3450 4097 3450 3541 \nQ 3450 3153 3228 2886 \nQ 3006 2619 2597 2516 \nz\n\" transform=\"scale(0.015625)\"/>\n       </defs>\n       <use xlink:href=\"#DejaVuSans-33\"/>\n       <use xlink:href=\"#DejaVuSans-30\" x=\"63.623047\"/>\n       <use xlink:href=\"#DejaVuSans-30\" x=\"127.246094\"/>\n      </g>\n     </g>\n    </g>\n    <g id=\"xtick_5\">\n     <g id=\"line2d_5\">\n      <g>\n       <use xlink:href=\"#mc6d7401a39\" x=\"309.340799\" y=\"251.82\" style=\"stroke: #000000; stroke-width: 0.8\"/>\n      </g>\n     </g>\n     <g id=\"text_5\">\n      <!-- 400 -->\n      <g transform=\"translate(299.797049 266.418437)scale(0.1 -0.1)\">\n       <defs>\n        <path id=\"DejaVuSans-34\" d=\"M 2419 4116 \nL 825 1625 \nL 2419 1625 \nL 2419 4116 \nz\nM 2253 4666 \nL 3047 4666 \nL 3047 1625 \nL 3713 1625 \nL 3713 1100 \nL 3047 1100 \nL 3047 0 \nL 2419 0 \nL 2419 1100 \nL 313 1100 \nL 313 1709 \nL 2253 4666 \nz\n\" transform=\"scale(0.015625)\"/>\n       </defs>\n       <use xlink:href=\"#DejaVuSans-34\"/>\n       <use xlink:href=\"#DejaVuSans-30\" x=\"63.623047\"/>\n       <use xlink:href=\"#DejaVuSans-30\" x=\"127.246094\"/>\n      </g>\n     </g>\n    </g>\n    <g id=\"xtick_6\">\n     <g id=\"line2d_6\">\n      <g>\n       <use xlink:href=\"#mc6d7401a39\" x=\"370.335515\" y=\"251.82\" style=\"stroke: #000000; stroke-width: 0.8\"/>\n      </g>\n     </g>\n     <g id=\"text_6\">\n      <!-- 500 -->\n      <g transform=\"translate(360.791765 266.418437)scale(0.1 -0.1)\">\n       <defs>\n        <path id=\"DejaVuSans-35\" d=\"M 691 4666 \nL 3169 4666 \nL 3169 4134 \nL 1269 4134 \nL 1269 2991 \nQ 1406 3038 1543 3061 \nQ 1681 3084 1819 3084 \nQ 2600 3084 3056 2656 \nQ 3513 2228 3513 1497 \nQ 3513 744 3044 326 \nQ 2575 -91 1722 -91 \nQ 1428 -91 1123 -41 \nQ 819 9 494 109 \nL 494 744 \nQ 775 591 1075 516 \nQ 1375 441 1709 441 \nQ 2250 441 2565 725 \nQ 2881 1009 2881 1497 \nQ 2881 1984 2565 2268 \nQ 2250 2553 1709 2553 \nQ 1456 2553 1204 2497 \nQ 953 2441 691 2322 \nL 691 4666 \nz\n\" transform=\"scale(0.015625)\"/>\n       </defs>\n       <use xlink:href=\"#DejaVuSans-35\"/>\n       <use xlink:href=\"#DejaVuSans-30\" x=\"63.623047\"/>\n       <use xlink:href=\"#DejaVuSans-30\" x=\"127.246094\"/>\n      </g>\n     </g>\n    </g>\n    <g id=\"text_7\">\n     <!-- Groups of experiments -->\n     <g transform=\"translate(160.397656 280.096562)scale(0.1 -0.1)\">\n      <defs>\n       <path id=\"DejaVuSans-47\" d=\"M 3809 666 \nL 3809 1919 \nL 2778 1919 \nL 2778 2438 \nL 4434 2438 \nL 4434 434 \nQ 4069 175 3628 42 \nQ 3188 -91 2688 -91 \nQ 1594 -91 976 548 \nQ 359 1188 359 2328 \nQ 359 3472 976 4111 \nQ 1594 4750 2688 4750 \nQ 3144 4750 3555 4637 \nQ 3966 4525 4313 4306 \nL 4313 3634 \nQ 3963 3931 3569 4081 \nQ 3175 4231 2741 4231 \nQ 1884 4231 1454 3753 \nQ 1025 3275 1025 2328 \nQ 1025 1384 1454 906 \nQ 1884 428 2741 428 \nQ 3075 428 3337 486 \nQ 3600 544 3809 666 \nz\n\" transform=\"scale(0.015625)\"/>\n       <path id=\"DejaVuSans-72\" d=\"M 2631 2963 \nQ 2534 3019 2420 3045 \nQ 2306 3072 2169 3072 \nQ 1681 3072 1420 2755 \nQ 1159 2438 1159 1844 \nL 1159 0 \nL 581 0 \nL 581 3500 \nL 1159 3500 \nL 1159 2956 \nQ 1341 3275 1631 3429 \nQ 1922 3584 2338 3584 \nQ 2397 3584 2469 3576 \nQ 2541 3569 2628 3553 \nL 2631 2963 \nz\n\" transform=\"scale(0.015625)\"/>\n       <path id=\"DejaVuSans-6f\" d=\"M 1959 3097 \nQ 1497 3097 1228 2736 \nQ 959 2375 959 1747 \nQ 959 1119 1226 758 \nQ 1494 397 1959 397 \nQ 2419 397 2687 759 \nQ 2956 1122 2956 1747 \nQ 2956 2369 2687 2733 \nQ 2419 3097 1959 3097 \nz\nM 1959 3584 \nQ 2709 3584 3137 3096 \nQ 3566 2609 3566 1747 \nQ 3566 888 3137 398 \nQ 2709 -91 1959 -91 \nQ 1206 -91 779 398 \nQ 353 888 353 1747 \nQ 353 2609 779 3096 \nQ 1206 3584 1959 3584 \nz\n\" transform=\"scale(0.015625)\"/>\n       <path id=\"DejaVuSans-75\" d=\"M 544 1381 \nL 544 3500 \nL 1119 3500 \nL 1119 1403 \nQ 1119 906 1312 657 \nQ 1506 409 1894 409 \nQ 2359 409 2629 706 \nQ 2900 1003 2900 1516 \nL 2900 3500 \nL 3475 3500 \nL 3475 0 \nL 2900 0 \nL 2900 538 \nQ 2691 219 2414 64 \nQ 2138 -91 1772 -91 \nQ 1169 -91 856 284 \nQ 544 659 544 1381 \nz\nM 1991 3584 \nL 1991 3584 \nz\n\" transform=\"scale(0.015625)\"/>\n       <path id=\"DejaVuSans-70\" d=\"M 1159 525 \nL 1159 -1331 \nL 581 -1331 \nL 581 3500 \nL 1159 3500 \nL 1159 2969 \nQ 1341 3281 1617 3432 \nQ 1894 3584 2278 3584 \nQ 2916 3584 3314 3078 \nQ 3713 2572 3713 1747 \nQ 3713 922 3314 415 \nQ 2916 -91 2278 -91 \nQ 1894 -91 1617 61 \nQ 1341 213 1159 525 \nz\nM 3116 1747 \nQ 3116 2381 2855 2742 \nQ 2594 3103 2138 3103 \nQ 1681 3103 1420 2742 \nQ 1159 2381 1159 1747 \nQ 1159 1113 1420 752 \nQ 1681 391 2138 391 \nQ 2594 391 2855 752 \nQ 3116 1113 3116 1747 \nz\n\" transform=\"scale(0.015625)\"/>\n       <path id=\"DejaVuSans-73\" d=\"M 2834 3397 \nL 2834 2853 \nQ 2591 2978 2328 3040 \nQ 2066 3103 1784 3103 \nQ 1356 3103 1142 2972 \nQ 928 2841 928 2578 \nQ 928 2378 1081 2264 \nQ 1234 2150 1697 2047 \nL 1894 2003 \nQ 2506 1872 2764 1633 \nQ 3022 1394 3022 966 \nQ 3022 478 2636 193 \nQ 2250 -91 1575 -91 \nQ 1294 -91 989 -36 \nQ 684 19 347 128 \nL 347 722 \nQ 666 556 975 473 \nQ 1284 391 1588 391 \nQ 1994 391 2212 530 \nQ 2431 669 2431 922 \nQ 2431 1156 2273 1281 \nQ 2116 1406 1581 1522 \nL 1381 1569 \nQ 847 1681 609 1914 \nQ 372 2147 372 2553 \nQ 372 3047 722 3315 \nQ 1072 3584 1716 3584 \nQ 2034 3584 2315 3537 \nQ 2597 3491 2834 3397 \nz\n\" transform=\"scale(0.015625)\"/>\n       <path id=\"DejaVuSans-20\" transform=\"scale(0.015625)\"/>\n       <path id=\"DejaVuSans-66\" d=\"M 2375 4863 \nL 2375 4384 \nL 1825 4384 \nQ 1516 4384 1395 4259 \nQ 1275 4134 1275 3809 \nL 1275 3500 \nL 2222 3500 \nL 2222 3053 \nL 1275 3053 \nL 1275 0 \nL 697 0 \nL 697 3053 \nL 147 3053 \nL 147 3500 \nL 697 3500 \nL 697 3744 \nQ 697 4328 969 4595 \nQ 1241 4863 1831 4863 \nL 2375 4863 \nz\n\" transform=\"scale(0.015625)\"/>\n       <path id=\"DejaVuSans-65\" d=\"M 3597 1894 \nL 3597 1613 \nL 953 1613 \nQ 991 1019 1311 708 \nQ 1631 397 2203 397 \nQ 2534 397 2845 478 \nQ 3156 559 3463 722 \nL 3463 178 \nQ 3153 47 2828 -22 \nQ 2503 -91 2169 -91 \nQ 1331 -91 842 396 \nQ 353 884 353 1716 \nQ 353 2575 817 3079 \nQ 1281 3584 2069 3584 \nQ 2775 3584 3186 3129 \nQ 3597 2675 3597 1894 \nz\nM 3022 2063 \nQ 3016 2534 2758 2815 \nQ 2500 3097 2075 3097 \nQ 1594 3097 1305 2825 \nQ 1016 2553 972 2059 \nL 3022 2063 \nz\n\" transform=\"scale(0.015625)\"/>\n       <path id=\"DejaVuSans-78\" d=\"M 3513 3500 \nL 2247 1797 \nL 3578 0 \nL 2900 0 \nL 1881 1375 \nL 863 0 \nL 184 0 \nL 1544 1831 \nL 300 3500 \nL 978 3500 \nL 1906 2253 \nL 2834 3500 \nL 3513 3500 \nz\n\" transform=\"scale(0.015625)\"/>\n       <path id=\"DejaVuSans-69\" d=\"M 603 3500 \nL 1178 3500 \nL 1178 0 \nL 603 0 \nL 603 3500 \nz\nM 603 4863 \nL 1178 4863 \nL 1178 4134 \nL 603 4134 \nL 603 4863 \nz\n\" transform=\"scale(0.015625)\"/>\n       <path id=\"DejaVuSans-6d\" d=\"M 3328 2828 \nQ 3544 3216 3844 3400 \nQ 4144 3584 4550 3584 \nQ 5097 3584 5394 3201 \nQ 5691 2819 5691 2113 \nL 5691 0 \nL 5113 0 \nL 5113 2094 \nQ 5113 2597 4934 2840 \nQ 4756 3084 4391 3084 \nQ 3944 3084 3684 2787 \nQ 3425 2491 3425 1978 \nL 3425 0 \nL 2847 0 \nL 2847 2094 \nQ 2847 2600 2669 2842 \nQ 2491 3084 2119 3084 \nQ 1678 3084 1418 2786 \nQ 1159 2488 1159 1978 \nL 1159 0 \nL 581 0 \nL 581 3500 \nL 1159 3500 \nL 1159 2956 \nQ 1356 3278 1631 3431 \nQ 1906 3584 2284 3584 \nQ 2666 3584 2933 3390 \nQ 3200 3197 3328 2828 \nz\n\" transform=\"scale(0.015625)\"/>\n       <path id=\"DejaVuSans-6e\" d=\"M 3513 2113 \nL 3513 0 \nL 2938 0 \nL 2938 2094 \nQ 2938 2591 2744 2837 \nQ 2550 3084 2163 3084 \nQ 1697 3084 1428 2787 \nQ 1159 2491 1159 1978 \nL 1159 0 \nL 581 0 \nL 581 3500 \nL 1159 3500 \nL 1159 2956 \nQ 1366 3272 1645 3428 \nQ 1925 3584 2291 3584 \nQ 2894 3584 3203 3211 \nQ 3513 2838 3513 2113 \nz\n\" transform=\"scale(0.015625)\"/>\n       <path id=\"DejaVuSans-74\" d=\"M 1172 4494 \nL 1172 3500 \nL 2356 3500 \nL 2356 3053 \nL 1172 3053 \nL 1172 1153 \nQ 1172 725 1289 603 \nQ 1406 481 1766 481 \nL 2356 481 \nL 2356 0 \nL 1766 0 \nQ 1100 0 847 248 \nQ 594 497 594 1153 \nL 594 3053 \nL 172 3053 \nL 172 3500 \nL 594 3500 \nL 594 4494 \nL 1172 4494 \nz\n\" transform=\"scale(0.015625)\"/>\n      </defs>\n      <use xlink:href=\"#DejaVuSans-47\"/>\n      <use xlink:href=\"#DejaVuSans-72\" x=\"77.490234\"/>\n      <use xlink:href=\"#DejaVuSans-6f\" x=\"116.353516\"/>\n      <use xlink:href=\"#DejaVuSans-75\" x=\"177.535156\"/>\n      <use xlink:href=\"#DejaVuSans-70\" x=\"240.914062\"/>\n      <use xlink:href=\"#DejaVuSans-73\" x=\"304.390625\"/>\n      <use xlink:href=\"#DejaVuSans-20\" x=\"356.490234\"/>\n      <use xlink:href=\"#DejaVuSans-6f\" x=\"388.277344\"/>\n      <use xlink:href=\"#DejaVuSans-66\" x=\"449.458984\"/>\n      <use xlink:href=\"#DejaVuSans-20\" x=\"484.664062\"/>\n      <use xlink:href=\"#DejaVuSans-65\" x=\"516.451172\"/>\n      <use xlink:href=\"#DejaVuSans-78\" x=\"576.224609\"/>\n      <use xlink:href=\"#DejaVuSans-70\" x=\"635.404297\"/>\n      <use xlink:href=\"#DejaVuSans-65\" x=\"698.880859\"/>\n      <use xlink:href=\"#DejaVuSans-72\" x=\"760.404297\"/>\n      <use xlink:href=\"#DejaVuSans-69\" x=\"801.517578\"/>\n      <use xlink:href=\"#DejaVuSans-6d\" x=\"829.300781\"/>\n      <use xlink:href=\"#DejaVuSans-65\" x=\"926.712891\"/>\n      <use xlink:href=\"#DejaVuSans-6e\" x=\"988.236328\"/>\n      <use xlink:href=\"#DejaVuSans-74\" x=\"1051.615234\"/>\n      <use xlink:href=\"#DejaVuSans-73\" x=\"1090.824219\"/>\n     </g>\n    </g>\n   </g>\n   <g id=\"matplotlib.axis_2\">\n    <g id=\"ytick_1\">\n     <g id=\"line2d_7\">\n      <defs>\n       <path id=\"m3b6a1984f1\" d=\"M 0 0 \nL -3.5 0 \n\" style=\"stroke: #000000; stroke-width: 0.8\"/>\n      </defs>\n      <g>\n       <use xlink:href=\"#m3b6a1984f1\" x=\"50.14375\" y=\"226.802047\" style=\"stroke: #000000; stroke-width: 0.8\"/>\n      </g>\n     </g>\n     <g id=\"text_8\">\n      <!-- 0.05 -->\n      <g transform=\"translate(20.878125 230.601266)scale(0.1 -0.1)\">\n       <defs>\n        <path id=\"DejaVuSans-2e\" d=\"M 684 794 \nL 1344 794 \nL 1344 0 \nL 684 0 \nL 684 794 \nz\n\" transform=\"scale(0.015625)\"/>\n       </defs>\n       <use xlink:href=\"#DejaVuSans-30\"/>\n       <use xlink:href=\"#DejaVuSans-2e\" x=\"63.623047\"/>\n       <use xlink:href=\"#DejaVuSans-30\" x=\"95.410156\"/>\n       <use xlink:href=\"#DejaVuSans-35\" x=\"159.033203\"/>\n      </g>\n     </g>\n    </g>\n    <g id=\"ytick_2\">\n     <g id=\"line2d_8\">\n      <g>\n       <use xlink:href=\"#m3b6a1984f1\" x=\"50.14375\" y=\"185.105458\" style=\"stroke: #000000; stroke-width: 0.8\"/>\n      </g>\n     </g>\n     <g id=\"text_9\">\n      <!-- 0.10 -->\n      <g transform=\"translate(20.878125 188.904677)scale(0.1 -0.1)\">\n       <use xlink:href=\"#DejaVuSans-30\"/>\n       <use xlink:href=\"#DejaVuSans-2e\" x=\"63.623047\"/>\n       <use xlink:href=\"#DejaVuSans-31\" x=\"95.410156\"/>\n       <use xlink:href=\"#DejaVuSans-30\" x=\"159.033203\"/>\n      </g>\n     </g>\n    </g>\n    <g id=\"ytick_3\">\n     <g id=\"line2d_9\">\n      <g>\n       <use xlink:href=\"#m3b6a1984f1\" x=\"50.14375\" y=\"143.408869\" style=\"stroke: #000000; stroke-width: 0.8\"/>\n      </g>\n     </g>\n     <g id=\"text_10\">\n      <!-- 0.15 -->\n      <g transform=\"translate(20.878125 147.208088)scale(0.1 -0.1)\">\n       <use xlink:href=\"#DejaVuSans-30\"/>\n       <use xlink:href=\"#DejaVuSans-2e\" x=\"63.623047\"/>\n       <use xlink:href=\"#DejaVuSans-31\" x=\"95.410156\"/>\n       <use xlink:href=\"#DejaVuSans-35\" x=\"159.033203\"/>\n      </g>\n     </g>\n    </g>\n    <g id=\"ytick_4\">\n     <g id=\"line2d_10\">\n      <g>\n       <use xlink:href=\"#m3b6a1984f1\" x=\"50.14375\" y=\"101.712279\" style=\"stroke: #000000; stroke-width: 0.8\"/>\n      </g>\n     </g>\n     <g id=\"text_11\">\n      <!-- 0.20 -->\n      <g transform=\"translate(20.878125 105.511498)scale(0.1 -0.1)\">\n       <use xlink:href=\"#DejaVuSans-30\"/>\n       <use xlink:href=\"#DejaVuSans-2e\" x=\"63.623047\"/>\n       <use xlink:href=\"#DejaVuSans-32\" x=\"95.410156\"/>\n       <use xlink:href=\"#DejaVuSans-30\" x=\"159.033203\"/>\n      </g>\n     </g>\n    </g>\n    <g id=\"ytick_5\">\n     <g id=\"line2d_11\">\n      <g>\n       <use xlink:href=\"#m3b6a1984f1\" x=\"50.14375\" y=\"60.01569\" style=\"stroke: #000000; stroke-width: 0.8\"/>\n      </g>\n     </g>\n     <g id=\"text_12\">\n      <!-- 0.25 -->\n      <g transform=\"translate(20.878125 63.814909)scale(0.1 -0.1)\">\n       <use xlink:href=\"#DejaVuSans-30\"/>\n       <use xlink:href=\"#DejaVuSans-2e\" x=\"63.623047\"/>\n       <use xlink:href=\"#DejaVuSans-32\" x=\"95.410156\"/>\n       <use xlink:href=\"#DejaVuSans-35\" x=\"159.033203\"/>\n      </g>\n     </g>\n    </g>\n    <g id=\"ytick_6\">\n     <g id=\"line2d_12\">\n      <g>\n       <use xlink:href=\"#m3b6a1984f1\" x=\"50.14375\" y=\"18.319101\" style=\"stroke: #000000; stroke-width: 0.8\"/>\n      </g>\n     </g>\n     <g id=\"text_13\">\n      <!-- 0.30 -->\n      <g transform=\"translate(20.878125 22.11832)scale(0.1 -0.1)\">\n       <use xlink:href=\"#DejaVuSans-30\"/>\n       <use xlink:href=\"#DejaVuSans-2e\" x=\"63.623047\"/>\n       <use xlink:href=\"#DejaVuSans-33\" x=\"95.410156\"/>\n       <use xlink:href=\"#DejaVuSans-30\" x=\"159.033203\"/>\n      </g>\n     </g>\n    </g>\n    <g id=\"text_14\">\n     <!-- Estimated probability -->\n     <g transform=\"translate(14.798438 183.033437)rotate(-90)scale(0.1 -0.1)\">\n      <defs>\n       <path id=\"DejaVuSans-45\" d=\"M 628 4666 \nL 3578 4666 \nL 3578 4134 \nL 1259 4134 \nL 1259 2753 \nL 3481 2753 \nL 3481 2222 \nL 1259 2222 \nL 1259 531 \nL 3634 531 \nL 3634 0 \nL 628 0 \nL 628 4666 \nz\n\" transform=\"scale(0.015625)\"/>\n       <path id=\"DejaVuSans-61\" d=\"M 2194 1759 \nQ 1497 1759 1228 1600 \nQ 959 1441 959 1056 \nQ 959 750 1161 570 \nQ 1363 391 1709 391 \nQ 2188 391 2477 730 \nQ 2766 1069 2766 1631 \nL 2766 1759 \nL 2194 1759 \nz\nM 3341 1997 \nL 3341 0 \nL 2766 0 \nL 2766 531 \nQ 2569 213 2275 61 \nQ 1981 -91 1556 -91 \nQ 1019 -91 701 211 \nQ 384 513 384 1019 \nQ 384 1609 779 1909 \nQ 1175 2209 1959 2209 \nL 2766 2209 \nL 2766 2266 \nQ 2766 2663 2505 2880 \nQ 2244 3097 1772 3097 \nQ 1472 3097 1187 3025 \nQ 903 2953 641 2809 \nL 641 3341 \nQ 956 3463 1253 3523 \nQ 1550 3584 1831 3584 \nQ 2591 3584 2966 3190 \nQ 3341 2797 3341 1997 \nz\n\" transform=\"scale(0.015625)\"/>\n       <path id=\"DejaVuSans-64\" d=\"M 2906 2969 \nL 2906 4863 \nL 3481 4863 \nL 3481 0 \nL 2906 0 \nL 2906 525 \nQ 2725 213 2448 61 \nQ 2172 -91 1784 -91 \nQ 1150 -91 751 415 \nQ 353 922 353 1747 \nQ 353 2572 751 3078 \nQ 1150 3584 1784 3584 \nQ 2172 3584 2448 3432 \nQ 2725 3281 2906 2969 \nz\nM 947 1747 \nQ 947 1113 1208 752 \nQ 1469 391 1925 391 \nQ 2381 391 2643 752 \nQ 2906 1113 2906 1747 \nQ 2906 2381 2643 2742 \nQ 2381 3103 1925 3103 \nQ 1469 3103 1208 2742 \nQ 947 2381 947 1747 \nz\n\" transform=\"scale(0.015625)\"/>\n       <path id=\"DejaVuSans-62\" d=\"M 3116 1747 \nQ 3116 2381 2855 2742 \nQ 2594 3103 2138 3103 \nQ 1681 3103 1420 2742 \nQ 1159 2381 1159 1747 \nQ 1159 1113 1420 752 \nQ 1681 391 2138 391 \nQ 2594 391 2855 752 \nQ 3116 1113 3116 1747 \nz\nM 1159 2969 \nQ 1341 3281 1617 3432 \nQ 1894 3584 2278 3584 \nQ 2916 3584 3314 3078 \nQ 3713 2572 3713 1747 \nQ 3713 922 3314 415 \nQ 2916 -91 2278 -91 \nQ 1894 -91 1617 61 \nQ 1341 213 1159 525 \nL 1159 0 \nL 581 0 \nL 581 4863 \nL 1159 4863 \nL 1159 2969 \nz\n\" transform=\"scale(0.015625)\"/>\n       <path id=\"DejaVuSans-6c\" d=\"M 603 4863 \nL 1178 4863 \nL 1178 0 \nL 603 0 \nL 603 4863 \nz\n\" transform=\"scale(0.015625)\"/>\n       <path id=\"DejaVuSans-79\" d=\"M 2059 -325 \nQ 1816 -950 1584 -1140 \nQ 1353 -1331 966 -1331 \nL 506 -1331 \nL 506 -850 \nL 844 -850 \nQ 1081 -850 1212 -737 \nQ 1344 -625 1503 -206 \nL 1606 56 \nL 191 3500 \nL 800 3500 \nL 1894 763 \nL 2988 3500 \nL 3597 3500 \nL 2059 -325 \nz\n\" transform=\"scale(0.015625)\"/>\n      </defs>\n      <use xlink:href=\"#DejaVuSans-45\"/>\n      <use xlink:href=\"#DejaVuSans-73\" x=\"63.183594\"/>\n      <use xlink:href=\"#DejaVuSans-74\" x=\"115.283203\"/>\n      <use xlink:href=\"#DejaVuSans-69\" x=\"154.492188\"/>\n      <use xlink:href=\"#DejaVuSans-6d\" x=\"182.275391\"/>\n      <use xlink:href=\"#DejaVuSans-61\" x=\"279.6875\"/>\n      <use xlink:href=\"#DejaVuSans-74\" x=\"340.966797\"/>\n      <use xlink:href=\"#DejaVuSans-65\" x=\"380.175781\"/>\n      <use xlink:href=\"#DejaVuSans-64\" x=\"441.699219\"/>\n      <use xlink:href=\"#DejaVuSans-20\" x=\"505.175781\"/>\n      <use xlink:href=\"#DejaVuSans-70\" x=\"536.962891\"/>\n      <use xlink:href=\"#DejaVuSans-72\" x=\"600.439453\"/>\n      <use xlink:href=\"#DejaVuSans-6f\" x=\"639.302734\"/>\n      <use xlink:href=\"#DejaVuSans-62\" x=\"700.484375\"/>\n      <use xlink:href=\"#DejaVuSans-61\" x=\"763.960938\"/>\n      <use xlink:href=\"#DejaVuSans-62\" x=\"825.240234\"/>\n      <use xlink:href=\"#DejaVuSans-69\" x=\"888.716797\"/>\n      <use xlink:href=\"#DejaVuSans-6c\" x=\"916.5\"/>\n      <use xlink:href=\"#DejaVuSans-69\" x=\"944.283203\"/>\n      <use xlink:href=\"#DejaVuSans-74\" x=\"972.066406\"/>\n      <use xlink:href=\"#DejaVuSans-79\" x=\"1011.275391\"/>\n     </g>\n    </g>\n   </g>\n   <g id=\"line2d_13\">\n    <path d=\"M 65.361932 101.712277 \nL 65.971879 143.408864 \nL 66.581826 157.307726 \nL 67.191773 164.257163 \nL 67.80172 168.426825 \nL 68.411668 171.206595 \nL 69.021615 149.365519 \nL 69.631562 153.833014 \nL 70.241509 166.573641 \nL 70.851456 151.748186 \nL 72.071351 143.408864 \nL 72.681298 133.786575 \nL 73.291245 137.452209 \nL 73.901192 123.950462 \nL 75.121086 131.145162 \nL 75.731034 124.877047 \nL 76.340981 123.657854 \nL 76.950928 118.390909 \nL 77.560875 121.567795 \nL 78.170822 116.874671 \nL 79.390717 122.560577 \nL 80.000664 125.062365 \nL 81.220558 135.687278 \nL 81.830505 131.495553 \nL 83.0504 140.629094 \nL 83.660347 139.373714 \nL 84.880241 142.145332 \nL 86.100135 149.365519 \nL 86.710083 148.041818 \nL 87.32003 149.043547 \nL 87.929977 141.21431 \nL 88.539924 144.478007 \nL 89.149871 143.408864 \nL 89.759819 146.459843 \nL 90.369766 147.379967 \nL 90.979713 150.196681 \nL 92.199607 148.041818 \nL 93.419502 149.618996 \nL 94.029449 152.095657 \nL 94.639396 151.067422 \nL 95.249343 153.416053 \nL 95.85929 154.037406 \nL 96.469237 156.238583 \nL 97.079185 155.209789 \nL 97.689132 152.674772 \nL 98.299079 151.748186 \nL 98.909026 149.365519 \nL 99.518973 148.529498 \nL 100.12892 149.160121 \nL 100.738868 148.355924 \nL 101.958762 149.560827 \nL 102.568709 151.479176 \nL 103.178656 149.365519 \nL 103.788603 149.923956 \nL 105.008498 148.463003 \nL 105.618445 146.520559 \nL 106.228392 148.314345 \nL 106.838339 146.430355 \nL 107.448286 146.982864 \nL 108.058234 145.1707 \nL 108.668181 144.567105 \nL 109.278128 146.264796 \nL 110.498022 145.076731 \nL 111.107969 145.60343 \nL 111.717917 143.950388 \nL 112.327864 143.408864 \nL 112.937811 143.936669 \nL 114.157705 142.894094 \nL 114.767652 143.408864 \nL 115.3776 141.901759 \nL 115.987547 143.408864 \nL 116.597494 142.918326 \nL 117.207441 144.378557 \nL 119.64723 142.482278 \nL 120.867124 143.408864 \nL 122.696966 142.092134 \nL 123.306913 140.802829 \nL 124.526807 141.706973 \nL 125.136754 140.460627 \nL 125.746701 140.907076 \nL 126.356649 139.693337 \nL 126.966596 139.320963 \nL 127.576543 140.575125 \nL 128.18649 141.003295 \nL 128.796437 140.629094 \nL 130.016332 138.342931 \nL 130.626279 139.548071 \nL 132.45612 140.779356 \nL 133.676015 143.03987 \nL 134.285962 141.945836 \nL 134.895909 141.595979 \nL 135.505856 140.533248 \nL 136.115803 140.201434 \nL 137.335698 140.956123 \nL 138.555592 140.30747 \nL 139.165539 140.674662 \nL 139.775486 140.357897 \nL 140.385433 141.391289 \nL 141.605328 140.761461 \nL 142.215275 141.110635 \nL 142.825222 139.499819 \nL 143.435169 139.206887 \nL 144.045116 139.559951 \nL 144.655064 137.361271 \nL 145.265011 137.091205 \nL 145.874958 137.452209 \nL 147.094852 136.922738 \nL 147.704799 136.050643 \nL 148.314747 137.017416 \nL 148.924694 136.761591 \nL 150.144588 135.069554 \nL 151.364482 134.599731 \nL 151.97443 135.536084 \nL 152.584377 134.142956 \nL 153.804271 133.698706 \nL 154.414218 134.048414 \nL 155.024165 133.829918 \nL 155.634113 134.733739 \nL 156.24406 135.069554 \nL 156.854007 134.296374 \nL 157.463954 134.630636 \nL 158.073901 135.505589 \nL 158.683848 134.744637 \nL 159.293796 135.069554 \nL 159.903743 134.855718 \nL 160.51369 133.051122 \nL 161.733584 133.705889 \nL 162.343531 133.505933 \nL 164.173373 134.455608 \nL 164.78332 133.747468 \nL 166.003214 133.361499 \nL 166.613162 132.17326 \nL 167.223109 132.984726 \nL 167.833056 133.293129 \nL 168.443003 133.107364 \nL 169.05295 133.899122 \nL 169.662897 134.196837 \nL 170.272845 134.00906 \nL 170.882792 134.781991 \nL 171.492739 133.639954 \nL 172.102686 132.984726 \nL 172.712633 132.808046 \nL 173.932528 131.528832 \nL 175.152422 131.199366 \nL 175.762369 131.495553 \nL 176.372316 131.332803 \nL 176.982263 131.62505 \nL 177.592211 131.012583 \nL 178.202158 131.303402 \nL 178.812105 130.69921 \nL 179.422052 130.988612 \nL 181.861841 130.37868 \nL 182.471788 129.798061 \nL 184.301629 130.644608 \nL 184.911577 130.497738 \nL 185.521524 131.194719 \nL 186.131471 130.627497 \nL 186.741418 130.899887 \nL 187.351365 130.339785 \nL 187.961312 130.610907 \nL 189.181207 130.327582 \nL 189.791154 129.374403 \nL 190.401101 130.049761 \nL 191.011048 129.510002 \nL 192.230943 130.04202 \nL 192.84089 130.701335 \nL 194.060784 131.214589 \nL 194.670731 131.07607 \nL 195.280678 131.718237 \nL 195.890626 131.966544 \nL 197.720467 131.550205 \nL 198.330414 131.794747 \nL 198.940361 132.416137 \nL 199.550309 132.277196 \nL 200.160256 132.515164 \nL 200.770203 131.629114 \nL 202.600044 130.125004 \nL 203.209992 130.734576 \nL 203.819939 129.144251 \nL 204.429886 128.660299 \nL 205.039833 128.905711 \nL 205.64978 129.510002 \nL 206.869675 129.271399 \nL 207.479622 129.866383 \nL 208.089569 130.101443 \nL 208.699516 129.981154 \nL 210.529358 131.719865 \nL 211.139305 131.594829 \nL 212.359199 132.037078 \nL 212.969146 132.598646 \nL 214.189041 132.346511 \nL 214.798988 132.899977 \nL 215.408935 132.773711 \nL 216.018882 131.975939 \nL 216.628829 131.519474 \nL 217.238776 132.067398 \nL 217.848724 131.946463 \nL 218.458671 132.488335 \nL 219.068618 132.366692 \nL 219.678565 132.902637 \nL 220.288512 133.107364 \nL 220.898459 132.658964 \nL 221.508407 133.187528 \nL 222.728301 132.944477 \nL 223.948195 133.344177 \nL 225.16809 132.469459 \nL 226.387984 133.496091 \nL 226.997931 133.69012 \nL 227.607878 132.945682 \nL 228.827773 132.093432 \nL 230.047667 131.86922 \nL 230.657614 132.064938 \nL 231.267561 131.953758 \nL 231.877508 131.539034 \nL 232.487456 132.037078 \nL 233.097403 131.62505 \nL 233.70735 131.818122 \nL 234.317297 132.309778 \nL 234.927244 131.901206 \nL 235.537191 131.793393 \nL 236.757086 132.762925 \nL 237.367033 132.35854 \nL 239.196874 132.037078 \nL 239.806822 132.512542 \nL 241.636663 133.056614 \nL 242.24661 132.66232 \nL 242.856557 132.841921 \nL 243.466505 132.735686 \nL 244.076452 133.197457 \nL 244.686399 133.373417 \nL 245.296346 133.829918 \nL 245.906293 134.002573 \nL 248.346082 133.573459 \nL 249.565976 133.913611 \nL 250.175923 134.35632 \nL 252.615712 132.849339 \nL 253.225659 132.748572 \nL 253.835606 132.917474 \nL 254.445554 132.81713 \nL 255.055501 132.182866 \nL 255.665448 132.618379 \nL 256.275395 132.785529 \nL 257.495289 132.061061 \nL 258.105237 131.965327 \nL 259.325131 132.298495 \nL 259.935078 131.942313 \nL 261.154972 131.754548 \nL 261.76492 132.177895 \nL 262.374867 131.826485 \nL 263.594761 131.641739 \nL 264.204708 132.060253 \nL 264.814655 131.71349 \nL 266.03455 132.037078 \nL 267.254444 131.854395 \nL 267.864391 132.0143 \nL 268.474338 131.923586 \nL 269.084286 132.082335 \nL 270.30418 131.9021 \nL 271.524074 132.215983 \nL 272.743969 131.547956 \nL 273.353916 131.704568 \nL 273.963863 132.103386 \nL 274.57381 132.015033 \nL 275.183757 131.685481 \nL 275.793704 131.839868 \nL 276.403652 132.233703 \nL 277.623546 132.058799 \nL 278.233493 132.44862 \nL 279.453387 131.800165 \nL 280.063335 131.95116 \nL 281.283229 131.780805 \nL 282.503123 132.079539 \nL 284.332965 131.826485 \nL 284.942912 131.974075 \nL 285.552859 131.660106 \nL 286.162806 131.807335 \nL 286.772753 132.182866 \nL 287.382701 132.327859 \nL 287.992648 132.016363 \nL 289.212542 131.851661 \nL 289.822489 131.54398 \nL 290.432436 131.914129 \nL 291.042384 131.832723 \nL 291.652331 132.200114 \nL 292.262278 132.118372 \nL 292.872225 131.814096 \nL 293.482172 131.956206 \nL 294.092119 131.875769 \nL 294.702067 132.016959 \nL 295.312014 131.936795 \nL 295.921961 132.077079 \nL 296.531908 132.436082 \nL 297.141855 132.574327 \nL 297.751802 132.49353 \nL 298.36175 132.630905 \nL 298.971697 132.550381 \nL 299.581644 132.903494 \nL 300.801538 132.742297 \nL 301.411485 132.877262 \nL 302.63138 132.717431 \nL 303.851274 132.984726 \nL 304.461221 133.329538 \nL 305.071168 133.037639 \nL 306.291063 133.300609 \nL 306.90101 133.641159 \nL 307.510957 133.770457 \nL 308.730851 133.610167 \nL 309.950746 133.866365 \nL 311.17064 133.294346 \nL 312.390534 133.138778 \nL 313.000482 132.856658 \nL 313.610429 133.189118 \nL 314.830323 133.035576 \nL 315.44027 133.162265 \nL 316.660165 132.606127 \nL 317.270112 132.732927 \nL 317.880059 132.457232 \nL 318.490006 132.583796 \nL 319.099953 132.109798 \nL 319.7099 132.236573 \nL 320.319848 131.765669 \nL 320.929795 131.694117 \nL 321.539742 131.424809 \nL 322.149689 131.749639 \nL 323.369583 132.001314 \nL 323.979531 131.73382 \nL 324.589478 131.663349 \nL 325.199425 131.983805 \nL 325.809372 131.913085 \nL 326.419319 131.648288 \nL 327.029266 130.802922 \nL 327.639214 131.122409 \nL 328.249161 131.247358 \nL 329.469055 131.111262 \nL 331.908844 131.60436 \nL 332.518791 131.916192 \nL 333.128738 132.037078 \nL 333.738685 131.968309 \nL 334.348632 132.088524 \nL 334.95858 131.643467 \nL 335.568527 131.576053 \nL 336.178474 131.134139 \nL 336.788421 130.881197 \nL 337.398368 130.815945 \nL 338.618263 131.057766 \nL 339.22821 131.363186 \nL 341.058051 131.166821 \nL 341.667998 131.285632 \nL 342.277946 131.587199 \nL 343.49784 131.456459 \nL 344.107787 131.573592 \nL 345.327681 131.443759 \nL 345.937629 130.836573 \nL 346.547576 131.13455 \nL 347.157523 131.251111 \nL 347.76747 131.546912 \nL 348.377417 131.662082 \nL 348.987365 131.955733 \nL 349.597312 131.533827 \nL 350.207259 131.470104 \nL 350.817206 131.051031 \nL 352.647048 131.3946 \nL 353.256995 131.331846 \nL 353.866942 130.741547 \nL 356.306731 130.498633 \nL 356.916678 130.090334 \nL 357.526625 130.031208 \nL 358.136572 130.145707 \nL 359.966414 131.003275 \nL 360.576361 130.59899 \nL 361.796255 130.137878 \nL 362.406202 130.079635 \nL 363.016149 130.192157 \nL 363.626097 129.963844 \nL 364.236044 130.076155 \nL 364.845991 130.357492 \nL 365.455938 130.299398 \nL 366.065885 130.072713 \nL 366.675832 130.183893 \nL 367.28578 130.126483 \nL 367.895727 129.901525 \nL 368.505674 130.01237 \nL 369.725568 130.566321 \nL 369.725568 130.566321 \n\" clip-path=\"url(#pffe4254166)\" style=\"fill: none; stroke: #1f77b4; stroke-width: 1.5; stroke-linecap: square\"/>\n   </g>\n   <g id=\"line2d_14\">\n    <path d=\"M 65.361932 18.319091 \nL 67.191773 18.319091 \nL 68.411668 87.813415 \nL 69.021615 101.712277 \nL 69.631562 112.136427 \nL 70.241509 110.978185 \nL 70.851456 126.730232 \nL 72.071351 136.459439 \nL 72.681298 146.616294 \nL 73.291245 149.365519 \nL 73.901192 157.307726 \nL 74.511139 143.408864 \nL 75.121086 145.861604 \nL 75.731034 152.674772 \nL 76.340981 145.60343 \nL 76.950928 147.578531 \nL 77.560875 153.336623 \nL 78.170822 150.990067 \nL 78.780769 145.221761 \nL 79.390717 146.883589 \nL 80.000664 145.076731 \nL 80.610611 146.616294 \nL 81.220558 144.953186 \nL 81.830505 149.365519 \nL 82.440452 147.722306 \nL 83.0504 140.629094 \nL 83.660347 139.373714 \nL 84.270294 135.590761 \nL 84.880241 137.091205 \nL 85.490188 140.956123 \nL 86.710083 143.408864 \nL 87.929977 149.992538 \nL 88.539924 148.75458 \nL 89.149871 145.493704 \nL 89.759819 146.459843 \nL 90.369766 141.423312 \nL 90.979713 142.439183 \nL 91.58966 135.827673 \nL 92.199607 138.77591 \nL 92.809554 139.783082 \nL 93.419502 138.973057 \nL 94.029449 141.671508 \nL 94.639396 142.557918 \nL 95.249343 141.741009 \nL 95.85929 142.591284 \nL 96.469237 141.805155 \nL 97.079185 144.195601 \nL 98.299079 142.650745 \nL 98.909026 144.898037 \nL 100.12892 146.284492 \nL 100.738868 148.355924 \nL 101.348815 148.968416 \nL 102.568709 144.753926 \nL 103.178656 146.718117 \nL 104.398551 147.899273 \nL 105.008498 144.672396 \nL 105.618445 142.78653 \nL 106.228392 144.63524 \nL 106.838339 142.804573 \nL 107.448286 142.217543 \nL 108.058234 143.996143 \nL 108.668181 143.408864 \nL 110.498022 145.076731 \nL 111.107969 142.311587 \nL 111.717917 140.701292 \nL 112.937811 141.82546 \nL 113.547758 138.196795 \nL 114.157705 136.716818 \nL 114.767652 137.30693 \nL 116.597494 136.050643 \nL 117.207441 136.621046 \nL 117.817388 136.219805 \nL 118.427335 136.775322 \nL 119.037283 135.444351 \nL 119.64723 135.99614 \nL 120.257177 135.619392 \nL 121.477071 136.683614 \nL 122.087018 138.085901 \nL 122.696966 137.703014 \nL 123.306913 139.065473 \nL 123.91686 138.680387 \nL 125.136754 139.618268 \nL 125.746701 139.239209 \nL 126.356649 139.693337 \nL 126.966596 139.320963 \nL 127.576543 139.765473 \nL 128.796437 139.040657 \nL 129.406384 140.261951 \nL 130.016332 140.681049 \nL 130.626279 138.77591 \nL 131.236226 139.966025 \nL 131.846173 139.618268 \nL 133.066067 140.430542 \nL 134.895909 139.4205 \nL 135.505856 140.533248 \nL 136.72575 139.875262 \nL 137.335698 138.853775 \nL 138.555592 139.618268 \nL 139.165539 140.674662 \nL 139.775486 140.357897 \nL 141.605328 143.408864 \nL 142.215275 143.737186 \nL 143.435169 143.085637 \nL 144.045116 143.408864 \nL 144.655064 143.09057 \nL 145.265011 142.145332 \nL 145.874958 141.841329 \nL 146.484905 142.164196 \nL 147.094852 141.864554 \nL 147.704799 140.956123 \nL 148.924694 141.595979 \nL 149.534641 140.709084 \nL 150.144588 140.430542 \nL 150.754535 140.747382 \nL 151.364482 141.64704 \nL 151.97443 140.784612 \nL 152.584377 140.513278 \nL 153.194324 140.820811 \nL 154.414218 140.288718 \nL 155.024165 141.154998 \nL 155.634113 140.890288 \nL 156.24406 139.517191 \nL 156.854007 139.819094 \nL 157.463954 138.471111 \nL 158.073901 138.77591 \nL 158.683848 138.535245 \nL 159.293796 139.373714 \nL 159.903743 138.063148 \nL 160.51369 138.362789 \nL 161.123637 138.130823 \nL 161.733584 137.377289 \nL 162.343531 138.196795 \nL 162.953479 138.488148 \nL 163.563426 138.26114 \nL 164.173373 138.548529 \nL 165.393267 138.10203 \nL 166.003214 138.385182 \nL 166.613162 139.164302 \nL 167.223109 138.941382 \nL 168.443003 139.484484 \nL 169.05295 138.77591 \nL 169.662897 138.560433 \nL 170.272845 139.311519 \nL 170.882792 139.095434 \nL 171.492739 139.834876 \nL 172.102686 140.092093 \nL 172.712633 139.404109 \nL 173.932528 138.982973 \nL 174.542475 139.702508 \nL 175.152422 138.571145 \nL 175.762369 138.826821 \nL 176.372316 138.168313 \nL 176.982263 138.876627 \nL 177.592211 138.675739 \nL 178.202158 138.028664 \nL 178.812105 138.280413 \nL 179.422052 137.642322 \nL 180.641946 137.264108 \nL 181.251894 137.51459 \nL 182.471788 137.143583 \nL 183.081735 137.820668 \nL 183.691682 136.780181 \nL 184.301629 136.17579 \nL 185.521524 136.670032 \nL 186.741418 137.988315 \nL 187.351365 137.807832 \nL 187.961312 138.041985 \nL 188.57126 137.452209 \nL 189.181207 137.277019 \nL 189.791154 137.917123 \nL 190.401101 136.931735 \nL 192.230943 136.426185 \nL 192.84089 137.055106 \nL 193.450837 137.282835 \nL 194.060784 137.115039 \nL 194.670731 137.340357 \nL 195.280678 137.173866 \nL 195.890626 137.784681 \nL 196.500573 138.003761 \nL 197.11052 138.605119 \nL 197.720467 137.670804 \nL 198.330414 138.268198 \nL 198.940361 137.722971 \nL 199.550309 138.314711 \nL 200.160256 137.398551 \nL 201.38015 138.569082 \nL 201.990097 138.034641 \nL 202.600044 138.242922 \nL 203.819939 139.385519 \nL 204.429886 139.221004 \nL 206.259727 139.814335 \nL 206.869675 139.650801 \nL 207.479622 140.201434 \nL 208.089569 139.682787 \nL 208.699516 140.228623 \nL 209.309463 140.417979 \nL 209.91941 138.503383 \nL 211.139305 138.891738 \nL 211.749252 138.737462 \nL 212.359199 138.929067 \nL 212.969146 138.77591 \nL 213.579093 139.307567 \nL 214.189041 139.4945 \nL 215.408935 139.188571 \nL 216.018882 138.701189 \nL 218.458671 139.43776 \nL 219.068618 138.95904 \nL 219.678565 139.140716 \nL 220.288512 139.648005 \nL 220.898459 139.825568 \nL 221.508407 139.352775 \nL 222.118354 139.206887 \nL 222.728301 139.384102 \nL 224.558142 140.862514 \nL 225.16809 140.713657 \nL 225.778037 139.934151 \nL 226.387984 139.789916 \nL 226.997931 139.019756 \nL 227.607878 139.192361 \nL 228.217825 139.052512 \nL 228.827773 139.533718 \nL 229.43772 139.084784 \nL 230.657614 139.423172 \nL 231.267561 139.285026 \nL 231.877508 139.452262 \nL 232.487456 139.315023 \nL 233.097403 139.783082 \nL 233.70735 139.645644 \nL 234.317297 139.809165 \nL 234.927244 140.270414 \nL 235.537191 140.430542 \nL 236.147139 139.995986 \nL 237.367033 139.725423 \nL 237.97698 139.885216 \nL 239.196874 140.784612 \nL 240.416769 140.513278 \nL 241.026716 140.667566 \nL 242.24661 141.546136 \nL 242.856557 141.409717 \nL 243.466505 141.558848 \nL 244.076452 141.423312 \nL 245.906293 141.864554 \nL 246.51624 141.449967 \nL 247.126188 141.317065 \nL 247.736135 141.463027 \nL 248.346082 141.33097 \nL 248.956029 141.475914 \nL 249.565976 141.069454 \nL 250.785871 141.358222 \nL 251.395818 140.683597 \nL 252.615712 140.430542 \nL 253.225659 140.575125 \nL 254.445554 140.325203 \nL 255.055501 140.736012 \nL 255.665448 140.877762 \nL 256.275395 140.753036 \nL 257.495289 141.033752 \nL 261.154972 140.301045 \nL 261.76492 139.92339 \nL 262.984814 140.201434 \nL 263.594761 139.571756 \nL 264.204708 139.20096 \nL 267.254444 139.892286 \nL 267.864391 139.276774 \nL 268.474338 139.164302 \nL 269.084286 138.803571 \nL 269.694233 138.941382 \nL 270.30418 138.088535 \nL 270.914127 137.980909 \nL 271.524074 137.62792 \nL 272.134021 137.522294 \nL 273.353916 137.80055 \nL 275.183757 137.486742 \nL 276.403652 137.761207 \nL 277.013599 137.657619 \nL 277.623546 137.793566 \nL 278.233493 137.690475 \nL 278.84344 138.063148 \nL 279.453387 138.196795 \nL 280.673282 138.932969 \nL 281.283229 139.063025 \nL 281.893176 138.958108 \nL 282.503123 138.152992 \nL 283.11307 138.051206 \nL 283.723018 138.41457 \nL 284.942912 137.749216 \nL 285.552859 138.110406 \nL 286.162806 138.010136 \nL 286.772753 138.368617 \nL 287.992648 138.168313 \nL 288.602595 137.614524 \nL 289.212542 137.516963 \nL 289.822489 137.871928 \nL 291.042384 137.676992 \nL 292.262278 137.931302 \nL 292.872225 137.61148 \nL 293.482172 137.960517 \nL 294.092119 138.085901 \nL 295.921961 137.137879 \nL 296.531908 137.483561 \nL 297.141855 137.170797 \nL 297.751802 137.51459 \nL 298.971697 136.893772 \nL 299.581644 137.019007 \nL 300.191591 137.359618 \nL 300.801538 137.483002 \nL 301.411485 136.960937 \nL 302.021433 136.870335 \nL 302.63138 136.994004 \nL 303.241327 137.330341 \nL 303.851274 137.239478 \nL 305.071168 137.482455 \nL 305.681116 137.39189 \nL 306.291063 137.512378 \nL 306.90101 137.002094 \nL 308.730851 136.737408 \nL 309.340799 136.234146 \nL 309.950746 136.355714 \nL 310.560693 136.269748 \nL 312.390534 137.24681 \nL 313.000482 137.159501 \nL 314.220376 136.578373 \nL 316.660165 137.04837 \nL 317.270112 136.560156 \nL 318.490006 136.392621 \nL 319.099953 136.509431 \nL 319.7099 136.226677 \nL 320.929795 136.459439 \nL 321.539742 136.773073 \nL 322.149689 136.294762 \nL 322.759636 136.213008 \nL 323.369583 135.541589 \nL 323.979531 135.461984 \nL 325.199425 135.69451 \nL 325.809372 135.420268 \nL 326.419319 135.341695 \nL 328.249161 135.687278 \nL 328.859108 135.608817 \nL 329.469055 135.915007 \nL 331.298897 136.252698 \nL 331.908844 136.173839 \nL 332.518791 135.715424 \nL 333.128738 135.448613 \nL 333.738685 135.372116 \nL 334.95858 135.596639 \nL 335.568527 135.895969 \nL 336.178474 136.006553 \nL 336.788421 135.929658 \nL 337.398368 136.03967 \nL 338.008315 135.776898 \nL 338.618263 135.701034 \nL 339.838157 135.180498 \nL 340.448104 134.737454 \nL 341.058051 134.848647 \nL 341.667998 134.775654 \nL 342.277946 134.336425 \nL 342.887893 134.264885 \nL 343.49784 134.376127 \nL 344.107787 133.940651 \nL 345.327681 133.80053 \nL 345.937629 133.911809 \nL 346.547576 133.842121 \nL 347.157523 133.592609 \nL 347.76747 133.523902 \nL 348.987365 134.103191 \nL 349.597312 134.212408 \nL 350.207259 134.142956 \nL 350.817206 133.896003 \nL 351.427153 134.182385 \nL 352.0371 133.936389 \nL 352.647048 133.868118 \nL 353.256995 133.623836 \nL 353.866942 133.556509 \nL 354.476889 133.66503 \nL 355.086836 133.948294 \nL 355.696783 133.880718 \nL 357.526625 134.200876 \nL 358.136572 134.133325 \nL 358.746519 134.239075 \nL 359.356466 133.999081 \nL 359.966414 133.932375 \nL 360.576361 133.693997 \nL 361.186308 133.799784 \nL 363.016149 134.62615 \nL 364.236044 134.49208 \nL 364.845991 134.255963 \nL 365.455938 134.189953 \nL 366.065885 134.461833 \nL 366.675832 134.227195 \nL 367.28578 134.497908 \nL 367.895727 134.431935 \nL 369.725568 134.735976 \nL 369.725568 134.735976 \n\" clip-path=\"url(#pffe4254166)\" style=\"fill: none; stroke: #ff7f0e; stroke-width: 1.5; stroke-linecap: square\"/>\n   </g>\n   <g id=\"line2d_15\">\n    <path d=\"M 65.361932 185.105457 \nL 66.581826 185.105457 \nL 67.191773 164.257163 \nL 67.80172 168.426825 \nL 68.411668 157.307726 \nL 69.021615 161.27883 \nL 69.631562 143.408864 \nL 70.241509 138.77591 \nL 70.851456 126.730232 \nL 71.461403 132.037078 \nL 72.681298 127.371715 \nL 73.291245 113.625588 \nL 74.511139 122.560577 \nL 75.731034 129.510002 \nL 76.340981 136.825202 \nL 76.950928 135.069554 \nL 77.560875 129.510002 \nL 78.170822 135.827673 \nL 78.780769 134.34439 \nL 79.390717 122.560577 \nL 80.000664 125.062365 \nL 80.610611 114.541996 \nL 82.440452 113.214791 \nL 83.0504 118.390909 \nL 83.660347 120.543002 \nL 84.270294 114.742461 \nL 85.490188 118.88146 \nL 86.100135 118.390909 \nL 86.710083 120.244093 \nL 87.929977 119.268733 \nL 88.539924 116.680283 \nL 89.149871 120.475749 \nL 89.759819 120.018104 \nL 90.369766 123.553346 \nL 90.979713 121.106036 \nL 91.58966 124.455874 \nL 92.199607 123.950462 \nL 93.419502 119.455504 \nL 94.029449 119.085864 \nL 95.249343 121.726643 \nL 95.85929 119.69904 \nL 96.469237 119.353147 \nL 97.079185 120.593752 \nL 97.689132 120.244093 \nL 98.299079 121.423398 \nL 98.909026 118.093082 \nL 100.12892 117.528233 \nL 100.738868 120.087047 \nL 101.348815 119.780807 \nL 101.958762 120.851702 \nL 102.568709 120.543002 \nL 104.398551 115.824975 \nL 106.838339 119.841237 \nL 107.448286 121.96491 \nL 108.058234 119.330555 \nL 108.668181 117.927623 \nL 109.278128 118.847858 \nL 109.888075 117.489363 \nL 110.498022 115.055188 \nL 111.717917 114.708624 \nL 112.327864 113.472853 \nL 114.157705 113.037277 \nL 114.767652 113.916158 \nL 115.3776 112.76439 \nL 115.987547 113.625588 \nL 116.597494 115.447631 \nL 117.207441 114.318231 \nL 118.427335 114.031725 \nL 119.037283 114.830304 \nL 119.64723 116.537738 \nL 120.257177 117.291222 \nL 120.867124 116.215442 \nL 123.91686 119.766479 \nL 124.526807 119.582243 \nL 125.136754 120.244093 \nL 125.746701 120.058776 \nL 126.356649 120.702807 \nL 126.966596 122.15178 \nL 127.576543 121.143701 \nL 128.18649 121.758716 \nL 128.796437 121.567795 \nL 129.406384 120.593752 \nL 131.236226 122.369307 \nL 131.846173 122.181517 \nL 132.45612 122.748392 \nL 133.066067 121.81599 \nL 133.676015 121.638079 \nL 134.285962 122.92634 \nL 134.895909 123.467019 \nL 135.505856 123.279478 \nL 136.115803 122.38238 \nL 137.335698 122.034983 \nL 137.945645 123.255519 \nL 139.165539 120.168142 \nL 139.775486 120.696097 \nL 141.605328 118.258542 \nL 142.215275 118.128262 \nL 142.825222 119.303031 \nL 144.045116 120.315372 \nL 144.655064 120.173361 \nL 145.265011 119.401747 \nL 145.874958 119.268733 \nL 146.484905 120.382388 \nL 147.094852 120.244093 \nL 148.314747 121.190984 \nL 148.924694 120.445528 \nL 149.534641 120.310762 \nL 150.144588 121.369243 \nL 150.754535 121.821271 \nL 151.364482 122.854216 \nL 151.97443 122.123199 \nL 153.194324 122.991915 \nL 153.804271 123.988537 \nL 154.414218 123.836995 \nL 155.024165 124.814442 \nL 155.634113 124.099705 \nL 156.854007 123.803182 \nL 158.073901 122.424307 \nL 159.293796 122.157062 \nL 160.51369 122.958947 \nL 161.123637 122.824479 \nL 161.733584 123.216177 \nL 162.343531 124.124197 \nL 163.563426 123.847508 \nL 164.173373 124.734937 \nL 164.78332 125.103049 \nL 165.393267 125.972113 \nL 166.003214 125.323596 \nL 166.613162 126.180941 \nL 167.223109 126.53168 \nL 167.833056 126.384823 \nL 168.443003 126.730232 \nL 169.05295 126.096254 \nL 170.272845 127.742523 \nL 170.882792 126.634373 \nL 171.492739 126.015431 \nL 172.102686 125.877348 \nL 172.712633 126.21197 \nL 173.32258 126.074333 \nL 173.932528 126.869993 \nL 175.152422 127.51349 \nL 176.372316 127.231506 \nL 176.982263 127.546035 \nL 177.592211 127.406398 \nL 178.202158 127.716602 \nL 178.812105 127.577548 \nL 179.422052 127.88354 \nL 180.031999 126.862599 \nL 180.641946 127.16915 \nL 181.251894 126.599243 \nL 181.861841 126.903967 \nL 183.691682 129.082354 \nL 184.301629 129.368177 \nL 184.911577 128.381161 \nL 185.521524 128.667655 \nL 186.131471 128.532193 \nL 186.741418 127.981126 \nL 187.351365 128.265333 \nL 187.961312 126.895368 \nL 188.57126 127.59292 \nL 189.181207 127.466057 \nL 189.791154 127.747221 \nL 190.401101 128.430482 \nL 191.011048 127.898539 \nL 191.620995 128.173576 \nL 192.230943 128.844982 \nL 192.84089 129.112899 \nL 193.450837 128.983029 \nL 194.060784 129.641127 \nL 195.890626 130.415052 \nL 197.11052 130.150503 \nL 197.720467 130.785127 \nL 198.330414 131.033174 \nL 198.940361 130.141767 \nL 199.550309 129.635783 \nL 200.770203 129.385351 \nL 201.38015 130.006393 \nL 201.990097 130.251283 \nL 203.209992 128.530354 \nL 203.819939 128.778488 \nL 204.429886 128.296126 \nL 205.039833 128.543129 \nL 206.259727 127.59292 \nL 207.479622 128.084477 \nL 208.089569 127.972253 \nL 208.699516 126.800901 \nL 209.309463 126.695052 \nL 209.91941 126.940464 \nL 210.529358 126.485988 \nL 211.139305 127.077703 \nL 212.969146 127.794094 \nL 215.408935 127.371715 \nL 216.018882 127.940777 \nL 216.628829 127.500529 \nL 217.238776 127.397376 \nL 217.848724 127.959541 \nL 218.458671 127.52445 \nL 220.288512 128.201883 \nL 221.508407 129.29368 \nL 222.118354 129.510002 \nL 222.728301 129.402673 \nL 224.558142 128.130729 \nL 225.16809 128.030285 \nL 225.778037 128.562353 \nL 226.387984 128.461039 \nL 227.607878 128.885344 \nL 228.217825 128.783943 \nL 229.43772 129.20114 \nL 230.047667 128.484264 \nL 230.657614 128.692421 \nL 231.267561 128.288124 \nL 231.877508 128.495485 \nL 232.487456 128.094853 \nL 233.097403 127.394965 \nL 233.70735 127.302238 \nL 234.317297 126.910218 \nL 234.927244 127.417706 \nL 236.147139 127.828291 \nL 236.757086 127.439962 \nL 237.367033 127.349049 \nL 237.97698 126.671504 \nL 238.586927 126.583934 \nL 239.196874 125.913795 \nL 239.806822 124.95777 \nL 240.416769 124.877047 \nL 241.026716 124.508339 \nL 241.636663 124.429729 \nL 242.24661 124.638234 \nL 242.856557 125.130909 \nL 243.466505 125.3356 \nL 244.076452 125.25525 \nL 244.686399 124.892755 \nL 245.296346 125.096177 \nL 245.906293 125.017443 \nL 247.736135 125.618329 \nL 248.346082 125.538898 \nL 248.956029 125.183871 \nL 249.565976 125.656851 \nL 250.175923 125.029447 \nL 250.785871 125.22642 \nL 251.395818 125.694628 \nL 252.005765 125.888146 \nL 252.615712 125.80966 \nL 253.225659 125.461791 \nL 254.445554 125.309069 \nL 255.055501 125.500724 \nL 255.665448 125.957586 \nL 256.275395 125.614787 \nL 256.885342 125.538898 \nL 257.495289 125.727409 \nL 258.105237 125.651644 \nL 258.715184 125.838614 \nL 259.325131 126.285821 \nL 259.935078 125.948427 \nL 260.545025 125.353332 \nL 261.154972 125.797892 \nL 261.76492 125.206948 \nL 262.374867 125.649209 \nL 265.424603 126.552805 \nL 266.03455 126.982938 \nL 266.644497 126.654653 \nL 267.254444 126.579522 \nL 267.864391 126.755271 \nL 268.474338 127.179663 \nL 269.694233 127.52445 \nL 270.30418 127.942777 \nL 270.914127 127.865173 \nL 271.524074 128.034025 \nL 272.134021 127.956608 \nL 272.743969 128.124192 \nL 273.353916 127.803128 \nL 273.963863 127.727065 \nL 274.57381 127.893854 \nL 275.183757 127.817965 \nL 275.793704 127.501498 \nL 276.403652 126.946528 \nL 278.233493 126.730232 \nL 278.84344 127.134132 \nL 279.453387 127.061909 \nL 280.063335 126.753854 \nL 280.673282 126.918693 \nL 281.893176 126.308586 \nL 282.503123 126.239681 \nL 283.11307 126.404109 \nL 283.723018 126.335341 \nL 284.942912 126.660929 \nL 285.552859 126.361648 \nL 286.162806 126.523479 \nL 286.772753 125.997102 \nL 287.382701 126.38752 \nL 289.212542 126.186359 \nL 289.822489 125.894036 \nL 290.432436 126.279458 \nL 291.652331 126.147377 \nL 292.872225 126.462663 \nL 293.482172 126.396666 \nL 294.092119 126.552805 \nL 295.312014 127.303841 \nL 295.921961 127.456352 \nL 296.531908 127.16915 \nL 297.141855 127.321214 \nL 297.751802 126.817553 \nL 298.36175 126.969741 \nL 298.971697 126.903967 \nL 299.581644 127.055136 \nL 300.191591 126.989487 \nL 300.801538 127.355138 \nL 301.411485 127.503983 \nL 303.241327 127.30609 \nL 303.851274 127.028071 \nL 305.071168 126.899556 \nL 305.681116 126.624668 \nL 306.291063 126.140579 \nL 308.120904 126.583934 \nL 309.950746 126.398318 \nL 310.560693 126.543995 \nL 311.17064 126.482533 \nL 311.780587 126.627278 \nL 312.390534 126.976712 \nL 313.000482 126.914642 \nL 313.610429 127.057261 \nL 314.220376 126.995302 \nL 314.830323 126.730232 \nL 316.050217 127.013607 \nL 316.660165 126.952344 \nL 317.880059 127.634499 \nL 319.7099 127.448449 \nL 322.149689 127.994969 \nL 322.759636 127.735689 \nL 323.979531 128.005656 \nL 324.589478 127.748177 \nL 325.199425 127.882508 \nL 325.809372 128.211042 \nL 327.639214 128.026594 \nL 328.859108 128.290248 \nL 330.079002 127.784625 \nL 330.688949 127.724828 \nL 331.298897 128.046961 \nL 331.908844 127.796442 \nL 333.128738 128.05694 \nL 333.738685 128.375408 \nL 334.95858 128.255032 \nL 335.568527 128.57089 \nL 336.178474 128.510534 \nL 338.008315 128.889519 \nL 339.22821 128.768733 \nL 340.448104 129.01801 \nL 342.277946 128.837974 \nL 342.887893 128.961369 \nL 343.49784 128.901734 \nL 344.717734 129.146637 \nL 345.327681 129.087002 \nL 347.157523 129.990313 \nL 347.76747 129.929373 \nL 348.377417 129.689342 \nL 348.987365 129.629309 \nL 349.597312 129.390955 \nL 350.207259 129.331817 \nL 351.427153 129.569152 \nL 352.0371 129.510002 \nL 353.256995 129.745087 \nL 353.866942 130.037807 \nL 354.476889 129.978172 \nL 355.696783 130.209318 \nL 356.306731 130.149708 \nL 356.916678 130.26443 \nL 357.526625 130.552415 \nL 358.746519 130.778777 \nL 359.356466 130.545941 \nL 359.966414 130.486368 \nL 360.576361 130.59899 \nL 361.186308 130.539554 \nL 361.796255 130.822829 \nL 362.406202 130.763182 \nL 363.016149 130.533229 \nL 364.236044 130.415835 \nL 364.845991 130.526991 \nL 366.065885 130.410343 \nL 368.505674 130.849658 \nL 369.115621 130.791266 \nL 369.725568 130.566321 \nL 369.725568 130.566321 \n\" clip-path=\"url(#pffe4254166)\" style=\"fill: none; stroke: #2ca02c; stroke-width: 1.5; stroke-linecap: square\"/>\n   </g>\n   <g id=\"line2d_16\">\n    <path d=\"M 65.361932 101.712277 \nL 65.971879 185.105457 \nL 66.581826 129.510002 \nL 67.191773 143.408864 \nL 67.80172 101.712277 \nL 68.411668 101.712277 \nL 69.021615 113.625588 \nL 69.631562 112.136427 \nL 70.241509 110.978185 \nL 70.851456 118.390909 \nL 72.071351 101.712277 \nL 72.681298 95.297417 \nL 73.291245 107.668932 \nL 73.901192 101.712277 \nL 75.121086 111.523239 \nL 75.731034 115.611139 \nL 76.340981 114.879625 \nL 76.950928 122.560577 \nL 77.560875 117.596691 \nL 78.170822 120.665279 \nL 79.390717 132.984726 \nL 80.000664 131.73382 \nL 80.610611 133.786575 \nL 81.830505 131.495553 \nL 82.440452 133.344177 \nL 83.0504 129.510002 \nL 83.660347 128.613302 \nL 84.270294 132.984726 \nL 84.880241 134.564141 \nL 85.490188 131.145162 \nL 86.100135 130.304232 \nL 87.32003 124.250973 \nL 87.929977 125.852408 \nL 88.539924 120.956856 \nL 89.149871 120.475749 \nL 89.759819 122.052082 \nL 90.979713 121.106036 \nL 91.58966 122.560577 \nL 92.199607 120.244093 \nL 92.809554 119.841237 \nL 93.419502 115.906866 \nL 94.029449 110.399071 \nL 95.249343 110.051599 \nL 95.85929 111.523239 \nL 97.079185 111.153014 \nL 98.909026 115.114761 \nL 99.518973 117.805706 \nL 101.348815 112.831369 \nL 101.958762 111.28199 \nL 102.568709 111.127639 \nL 103.178656 113.625588 \nL 103.788603 113.43945 \nL 104.398551 114.541996 \nL 105.008498 113.084076 \nL 105.618445 114.159022 \nL 106.228392 112.749615 \nL 106.838339 112.589648 \nL 107.448286 111.242933 \nL 108.058234 111.108689 \nL 108.668181 113.294668 \nL 109.278128 110.85126 \nL 109.888075 112.981631 \nL 111.107969 110.490505 \nL 112.327864 114.541996 \nL 112.937811 115.435204 \nL 113.547758 117.348496 \nL 114.157705 117.155461 \nL 115.3776 118.792809 \nL 115.987547 115.611139 \nL 118.427335 118.769981 \nL 119.037283 118.578314 \nL 119.64723 120.244093 \nL 120.257177 120.040447 \nL 120.867124 118.934782 \nL 122.087018 120.342673 \nL 122.696966 120.146557 \nL 123.306913 121.691899 \nL 123.91686 120.626197 \nL 126.356649 123.179829 \nL 126.966596 122.15178 \nL 127.576543 120.334062 \nL 128.796437 121.567795 \nL 130.626279 121.016254 \nL 131.236226 118.54393 \nL 131.846173 119.149041 \nL 132.45612 118.24066 \nL 133.066067 118.093082 \nL 133.676015 118.686114 \nL 135.505856 118.247134 \nL 136.115803 119.531331 \nL 136.72575 120.087047 \nL 137.335698 119.932634 \nL 137.945645 119.085864 \nL 139.165539 121.535249 \nL 139.775486 122.052082 \nL 140.385433 123.233102 \nL 140.995381 123.060932 \nL 141.605328 122.229645 \nL 142.215275 122.0681 \nL 142.825222 122.560577 \nL 144.045116 122.239835 \nL 144.655064 123.356311 \nL 145.265011 123.824108 \nL 145.874958 124.911892 \nL 146.484905 123.494084 \nL 147.704799 124.400129 \nL 148.924694 124.071322 \nL 149.534641 124.510414 \nL 150.754535 124.187038 \nL 152.584377 125.456174 \nL 153.194324 126.442669 \nL 153.804271 125.702096 \nL 154.414218 125.538898 \nL 155.024165 124.250973 \nL 155.634113 124.099705 \nL 156.24406 123.39451 \nL 157.463954 124.206498 \nL 158.073901 122.424307 \nL 158.683848 123.372851 \nL 159.293796 123.771122 \nL 160.51369 125.614787 \nL 161.733584 125.314127 \nL 162.343531 125.687818 \nL 162.953479 126.574838 \nL 163.563426 126.93614 \nL 166.613162 126.180941 \nL 167.833056 126.878269 \nL 168.443003 126.239681 \nL 169.05295 126.096254 \nL 169.662897 125.469632 \nL 170.272845 125.814357 \nL 170.882792 125.675839 \nL 173.32258 128.885344 \nL 173.932528 128.733528 \nL 174.542475 129.046715 \nL 175.152422 129.817161 \nL 175.762369 128.746328 \nL 176.982263 129.358932 \nL 177.592211 129.20949 \nL 178.202158 128.613302 \nL 178.812105 129.361355 \nL 180.031999 129.951244 \nL 180.641946 129.80261 \nL 181.251894 130.092161 \nL 182.471788 128.933882 \nL 183.081735 128.793574 \nL 183.691682 129.082354 \nL 184.301629 128.942705 \nL 185.521524 129.510002 \nL 186.131471 129.370315 \nL 186.741418 129.648993 \nL 187.351365 129.510002 \nL 187.961312 129.785225 \nL 188.57126 129.646942 \nL 190.401101 128.025662 \nL 191.011048 127.898539 \nL 191.620995 127.371715 \nL 192.230943 127.248941 \nL 192.84089 126.333129 \nL 194.060784 126.100852 \nL 194.670731 126.377864 \nL 195.280678 125.483227 \nL 195.890626 125.76055 \nL 196.500573 125.263128 \nL 197.11052 125.538898 \nL 197.720467 126.194684 \nL 198.330414 126.082883 \nL 199.550309 126.617026 \nL 200.160256 127.256136 \nL 200.770203 127.515552 \nL 201.38015 127.028071 \nL 201.990097 127.286183 \nL 202.600044 127.173027 \nL 203.209992 126.693499 \nL 205.039833 127.455395 \nL 205.64978 126.982938 \nL 206.869675 127.481852 \nL 207.479622 127.015334 \nL 208.089569 126.90767 \nL 208.699516 127.154263 \nL 209.309463 125.991312 \nL 210.529358 125.788137 \nL 211.139305 126.035289 \nL 211.749252 125.588331 \nL 212.969146 126.078186 \nL 213.579093 125.978326 \nL 214.798988 126.459035 \nL 216.018882 126.259464 \nL 216.628829 126.495792 \nL 217.238776 126.396666 \nL 217.848724 125.966073 \nL 218.458671 125.86983 \nL 219.068618 125.44473 \nL 219.678565 125.351294 \nL 220.288512 124.604521 \nL 220.898459 124.840861 \nL 221.508407 124.750856 \nL 222.118354 124.984798 \nL 223.948195 124.717292 \nL 225.16809 125.176515 \nL 225.778037 125.08764 \nL 226.387984 124.370044 \nL 226.997931 124.598382 \nL 227.607878 124.200322 \nL 228.217825 124.427592 \nL 228.827773 124.033135 \nL 230.657614 124.706717 \nL 231.267561 125.233429 \nL 231.877508 124.843235 \nL 233.097403 125.884219 \nL 233.70735 125.796948 \nL 234.317297 126.010287 \nL 234.927244 125.923202 \nL 235.537191 125.538898 \nL 236.757086 125.961364 \nL 237.367033 126.465024 \nL 237.97698 126.377864 \nL 238.586927 126.876542 \nL 239.196874 127.080138 \nL 239.806822 127.572876 \nL 240.416769 127.772645 \nL 241.636663 127.59292 \nL 242.24661 126.930833 \nL 242.856557 126.558882 \nL 243.466505 125.904835 \nL 244.076452 125.822547 \nL 244.686399 126.3062 \nL 245.906293 125.579011 \nL 246.51624 125.498922 \nL 247.126188 125.698281 \nL 247.736135 125.618329 \nL 248.346082 125.81596 \nL 248.956029 125.736145 \nL 249.565976 125.381628 \nL 250.175923 124.755131 \nL 250.785871 124.679577 \nL 251.395818 124.877047 \nL 252.005765 125.34487 \nL 252.615712 125.268148 \nL 253.835606 125.654192 \nL 255.055501 126.569867 \nL 255.665448 125.957586 \nL 256.275395 126.411528 \nL 256.885342 126.068381 \nL 258.105237 125.914714 \nL 258.715184 125.314127 \nL 259.325131 124.455874 \nL 259.935078 124.645404 \nL 260.545025 125.093543 \nL 261.76492 124.948774 \nL 262.374867 125.39183 \nL 262.984814 125.318961 \nL 263.594761 125.502364 \nL 264.204708 124.919559 \nL 266.03455 124.708581 \nL 266.644497 124.891052 \nL 267.254444 124.821227 \nL 267.864391 125.00227 \nL 268.474338 124.682858 \nL 269.084286 124.863217 \nL 269.694233 124.546128 \nL 270.30418 124.725829 \nL 270.914127 125.15119 \nL 271.524074 124.836052 \nL 272.134021 125.258592 \nL 272.743969 125.189538 \nL 273.353916 125.364727 \nL 273.963863 125.052647 \nL 274.57381 124.984798 \nL 275.183757 125.159056 \nL 275.793704 124.850268 \nL 277.013599 125.675839 \nL 277.623546 125.60717 \nL 278.233493 125.300631 \nL 278.84344 124.520666 \nL 280.063335 124.391443 \nL 280.673282 123.856231 \nL 281.283229 123.79385 \nL 282.503123 124.137332 \nL 283.723018 124.012408 \nL 284.332965 123.718818 \nL 285.552859 124.057964 \nL 286.162806 123.766673 \nL 286.772753 123.935189 \nL 287.382701 123.874299 \nL 287.992648 124.041598 \nL 289.212542 124.826695 \nL 290.432436 124.701746 \nL 291.042384 125.089343 \nL 291.652331 124.802327 \nL 292.262278 124.069694 \nL 293.482172 124.39522 \nL 294.092119 124.77848 \nL 295.312014 125.097668 \nL 295.921961 125.476032 \nL 296.531908 125.194049 \nL 297.141855 125.132413 \nL 298.36175 125.881063 \nL 298.971697 126.035289 \nL 300.191591 125.477175 \nL 301.411485 125.784534 \nL 302.63138 125.661088 \nL 303.851274 125.964383 \nL 304.461221 125.478269 \nL 305.071168 125.841273 \nL 305.681116 125.569057 \nL 306.291063 125.929999 \nL 306.90101 125.868997 \nL 307.510957 125.598769 \nL 308.120904 125.747913 \nL 308.730851 125.687818 \nL 309.340799 126.04395 \nL 309.950746 125.983433 \nL 310.560693 126.130129 \nL 311.17064 126.482533 \nL 312.390534 125.538898 \nL 313.000482 125.685258 \nL 314.830323 125.509845 \nL 315.44027 125.249036 \nL 316.050217 125.191911 \nL 316.660165 125.538898 \nL 317.880059 125.825964 \nL 318.490006 125.768006 \nL 319.099953 126.110283 \nL 319.7099 126.051916 \nL 320.929795 126.333129 \nL 321.539742 126.076558 \nL 322.759636 125.961364 \nL 323.979531 126.239681 \nL 325.199425 126.124798 \nL 325.809372 125.678075 \nL 327.029266 126.342362 \nL 327.639214 125.898237 \nL 328.249161 126.035289 \nL 328.859108 125.979121 \nL 329.469055 125.73105 \nL 330.688949 126.003415 \nL 331.298897 125.566162 \nL 331.908844 125.892496 \nL 332.518791 126.027373 \nL 333.128738 126.351172 \nL 333.738685 126.484397 \nL 334.348632 126.428353 \nL 334.95858 126.749058 \nL 335.568527 126.504851 \nL 336.178474 126.449131 \nL 336.788421 126.580653 \nL 337.398368 126.52502 \nL 338.008315 126.655772 \nL 338.618263 126.414485 \nL 339.22821 126.544914 \nL 339.838157 126.859667 \nL 340.448104 126.98853 \nL 341.058051 126.932735 \nL 342.277946 127.555007 \nL 342.887893 127.498329 \nL 343.49784 127.806868 \nL 344.717734 128.05653 \nL 345.327681 127.999256 \nL 345.937629 128.30403 \nL 346.547576 127.885466 \nL 347.157523 127.648815 \nL 348.377417 126.819902 \nL 348.987365 127.12393 \nL 349.597312 127.069526 \nL 350.207259 127.193531 \nL 350.817206 127.139202 \nL 351.427153 126.90767 \nL 352.0371 127.208281 \nL 352.647048 127.330944 \nL 353.256995 127.100481 \nL 353.866942 127.222845 \nL 354.476889 127.520274 \nL 355.696783 126.712747 \nL 356.916678 126.956556 \nL 357.526625 126.730232 \nL 358.136572 127.024965 \nL 359.356466 126.574838 \nL 361.186308 126.93614 \nL 361.796255 126.884346 \nL 362.406202 126.661873 \nL 363.016149 126.781392 \nL 363.626097 127.070607 \nL 364.845991 126.967529 \nL 365.455938 126.577994 \nL 366.065885 126.527654 \nL 366.675832 126.814471 \nL 367.895727 127.049035 \nL 368.505674 126.830713 \nL 369.115621 126.947485 \nL 369.725568 126.897021 \nL 369.725568 126.897021 \n\" clip-path=\"url(#pffe4254166)\" style=\"fill: none; stroke: #d62728; stroke-width: 1.5; stroke-linecap: square\"/>\n   </g>\n   <g id=\"line2d_17\">\n    <path d=\"M 65.361932 185.105457 \nL 65.971879 226.802047 \nL 66.581826 240.700909 \nL 67.191773 205.95375 \nL 67.80172 201.784095 \nL 68.411668 185.105457 \nL 69.021615 197.018767 \nL 69.631562 195.529607 \nL 70.851456 193.444773 \nL 71.461403 192.686654 \nL 72.071351 185.105457 \nL 72.681298 185.105457 \nL 73.291245 179.148802 \nL 73.901192 179.545911 \nL 74.511139 174.681313 \nL 75.121086 160.578047 \nL 76.340981 145.60343 \nL 77.560875 141.423312 \nL 78.170822 143.408864 \nL 78.780769 141.595979 \nL 80.000664 131.73382 \nL 80.610611 136.994004 \nL 81.830505 128.517232 \nL 82.440452 127.59292 \nL 83.0504 132.289784 \nL 83.660347 131.303402 \nL 84.270294 132.984726 \nL 86.100135 130.304232 \nL 87.32003 128.758717 \nL 87.929977 130.241528 \nL 89.149871 137.154381 \nL 89.759819 132.221985 \nL 90.369766 129.510002 \nL 91.58966 132.037078 \nL 92.199607 135.069554 \nL 92.809554 136.157287 \nL 93.419502 138.973057 \nL 94.029449 139.934151 \nL 94.639396 142.557918 \nL 95.249343 143.408864 \nL 95.85929 142.591284 \nL 97.079185 137.901776 \nL 98.909026 140.430542 \nL 99.518973 136.825202 \nL 100.12892 137.657619 \nL 100.738868 134.221479 \nL 101.958762 133.155604 \nL 102.568709 135.338564 \nL 103.788603 134.287737 \nL 105.008498 138.354737 \nL 105.618445 139.052512 \nL 106.228392 137.277019 \nL 106.838339 139.178779 \nL 107.448286 138.643542 \nL 108.058234 140.472494 \nL 109.278128 141.695304 \nL 109.888075 141.154998 \nL 111.107969 144.506153 \nL 111.717917 143.950388 \nL 112.327864 144.478007 \nL 112.937811 142.881058 \nL 113.547758 143.408864 \nL 114.157705 144.953186 \nL 114.767652 145.442854 \nL 115.3776 146.925454 \nL 115.987547 147.379967 \nL 116.597494 146.842705 \nL 117.207441 144.378557 \nL 117.817388 145.805225 \nL 119.037283 144.814369 \nL 119.64723 142.482278 \nL 120.257177 142.034251 \nL 120.867124 142.502421 \nL 121.477071 140.270414 \nL 122.087018 138.973057 \nL 123.91686 137.820668 \nL 124.526807 138.303166 \nL 126.356649 137.216303 \nL 126.966596 137.685803 \nL 127.576543 138.955834 \nL 128.18649 139.399586 \nL 128.796437 139.040657 \nL 130.016332 139.901681 \nL 131.236226 139.20096 \nL 131.846173 137.343911 \nL 132.45612 136.271612 \nL 133.066067 135.963048 \nL 134.285962 133.899122 \nL 134.895909 134.34439 \nL 135.505856 133.344177 \nL 136.115803 133.786575 \nL 136.72575 132.808046 \nL 137.335698 133.247511 \nL 138.555592 132.726267 \nL 139.775486 133.57797 \nL 140.385433 131.975939 \nL 141.605328 132.819254 \nL 142.215275 132.574327 \nL 142.825222 133.636226 \nL 144.045116 133.145091 \nL 144.655064 133.541734 \nL 145.265011 134.564141 \nL 145.874958 133.69012 \nL 146.484905 134.696148 \nL 147.704799 135.437467 \nL 148.314747 134.582582 \nL 150.144588 137.452209 \nL 151.364482 136.948834 \nL 151.97443 137.285593 \nL 152.584377 138.196795 \nL 153.194324 137.370057 \nL 153.804271 137.697012 \nL 155.634113 136.972482 \nL 156.24406 137.849324 \nL 156.854007 138.162274 \nL 158.073901 139.866017 \nL 158.683848 140.15978 \nL 159.293796 137.759654 \nL 159.903743 138.063148 \nL 161.733584 137.377289 \nL 162.343531 136.633175 \nL 163.563426 136.202048 \nL 164.173373 134.455608 \nL 165.393267 134.058728 \nL 166.003214 134.366236 \nL 166.613162 134.170704 \nL 167.223109 132.984726 \nL 167.833056 132.306224 \nL 168.443003 132.616814 \nL 169.05295 133.411442 \nL 169.662897 133.227144 \nL 170.272845 132.080894 \nL 171.492739 131.73382 \nL 172.102686 131.089416 \nL 173.32258 130.759342 \nL 173.932528 131.062948 \nL 174.542475 130.899887 \nL 176.372316 131.788509 \nL 176.982263 131.62505 \nL 177.592211 131.914129 \nL 178.202158 132.648464 \nL 178.812105 132.037078 \nL 180.641946 134.19173 \nL 183.081735 135.2415 \nL 183.691682 135.069554 \nL 184.911577 135.577527 \nL 186.131471 135.237176 \nL 189.181207 136.459439 \nL 189.791154 137.103532 \nL 190.401101 136.931735 \nL 191.011048 137.567316 \nL 191.620995 137.795865 \nL 192.84089 137.452209 \nL 193.450837 136.492369 \nL 194.060784 136.328314 \nL 195.280678 135.22542 \nL 195.890626 134.293802 \nL 196.500573 134.915117 \nL 197.11052 134.762109 \nL 197.720467 134.993044 \nL 198.330414 134.079493 \nL 198.940361 133.932375 \nL 199.550309 134.541264 \nL 201.38015 134.1016 \nL 201.990097 134.328273 \nL 202.600044 134.921951 \nL 203.819939 135.362162 \nL 204.429886 135.943538 \nL 205.039833 135.432136 \nL 205.64978 135.286161 \nL 206.259727 135.860342 \nL 207.479622 135.56848 \nL 208.699516 136.695009 \nL 209.309463 136.899277 \nL 209.91941 137.452209 \nL 210.529358 137.651605 \nL 211.139305 136.80691 \nL 212.359199 136.516874 \nL 212.969146 135.687278 \nL 213.579093 135.206258 \nL 214.189041 135.069554 \nL 214.798988 133.916966 \nL 215.408935 133.786575 \nL 216.018882 133.993514 \nL 216.628829 134.533696 \nL 217.238776 134.735976 \nL 218.458671 134.473887 \nL 219.068618 135.003631 \nL 220.288512 134.742524 \nL 220.898459 133.961988 \nL 222.118354 133.065524 \nL 223.948195 132.705141 \nL 225.16809 133.103624 \nL 225.778037 133.616492 \nL 226.387984 133.496091 \nL 226.997931 133.063101 \nL 228.217825 133.45148 \nL 228.827773 133.023472 \nL 229.43772 132.907508 \nL 230.047667 133.407838 \nL 230.657614 132.984726 \nL 231.877508 133.365165 \nL 232.487456 132.946813 \nL 233.097403 132.833644 \nL 233.70735 132.420238 \nL 234.317297 132.609755 \nL 234.927244 131.901206 \nL 235.537191 132.09122 \nL 236.147139 131.686338 \nL 236.757086 131.580054 \nL 237.367033 131.769186 \nL 237.97698 132.250628 \nL 238.586927 131.558258 \nL 239.196874 131.745489 \nL 240.416769 131.536921 \nL 241.026716 131.722276 \nL 241.636663 131.331237 \nL 242.856557 131.699548 \nL 244.076452 132.63016 \nL 245.906293 132.317856 \nL 246.51624 132.774842 \nL 247.736135 132.567753 \nL 248.346082 132.742297 \nL 248.956029 132.363411 \nL 249.565976 132.537482 \nL 250.175923 132.984726 \nL 250.785871 132.882195 \nL 251.395818 133.052849 \nL 252.005765 133.494041 \nL 252.615712 133.661613 \nL 253.225659 133.558224 \nL 253.835606 133.993514 \nL 254.445554 133.621562 \nL 255.055501 133.519292 \nL 255.665448 133.151242 \nL 256.275395 132.519949 \nL 256.885342 132.951635 \nL 257.495289 132.852769 \nL 258.105237 133.280677 \nL 258.715184 133.443651 \nL 259.935078 134.287737 \nL 261.76492 134.759735 \nL 262.374867 134.657738 \nL 263.594761 134.967234 \nL 264.204708 135.375583 \nL 264.814655 135.272952 \nL 265.424603 134.917465 \nL 266.03455 134.311435 \nL 267.864391 134.76903 \nL 268.474338 134.670065 \nL 269.084286 134.322743 \nL 270.30418 134.129212 \nL 270.914127 133.539858 \nL 272.134021 133.352627 \nL 272.743969 133.504405 \nL 273.353916 133.411442 \nL 273.963863 133.562151 \nL 274.57381 133.469561 \nL 275.793704 133.768034 \nL 276.403652 133.435338 \nL 277.013599 133.344177 \nL 278.84344 133.786575 \nL 279.453387 133.695463 \nL 280.063335 133.132366 \nL 280.673282 133.043616 \nL 281.893176 133.3361 \nL 282.503123 133.714699 \nL 283.723018 133.071837 \nL 284.332965 133.21637 \nL 284.942912 132.898089 \nL 285.552859 133.272687 \nL 286.162806 133.415468 \nL 286.772753 133.32837 \nL 288.602595 133.751619 \nL 289.212542 133.211337 \nL 289.822489 133.57797 \nL 290.432436 133.041068 \nL 291.042384 132.731846 \nL 292.262278 133.012674 \nL 292.872225 133.374933 \nL 293.482172 132.845735 \nL 294.092119 132.097558 \nL 295.312014 131.936795 \nL 295.921961 131.416968 \nL 296.531908 131.119352 \nL 297.141855 131.261039 \nL 298.36175 131.106739 \nL 298.971697 131.247358 \nL 299.581644 131.170649 \nL 300.191591 131.526421 \nL 300.801538 131.018411 \nL 301.411485 131.372742 \nL 302.021433 131.296492 \nL 302.63138 131.434464 \nL 303.241327 131.358451 \nL 305.681116 131.902722 \nL 307.510957 131.675154 \nL 308.120904 131.809063 \nL 309.950746 131.584465 \nL 310.560693 131.717268 \nL 313.610429 131.349566 \nL 314.220376 131.480989 \nL 315.44027 131.336133 \nL 316.050217 131.466637 \nL 316.660165 131.192681 \nL 317.270112 131.322899 \nL 318.490006 130.77961 \nL 319.099953 130.709909 \nL 320.319848 130.96955 \nL 320.929795 130.502784 \nL 321.539742 130.4344 \nL 322.759636 130.692885 \nL 323.369583 131.017902 \nL 323.979531 130.752731 \nL 324.589478 130.684559 \nL 325.199425 130.421402 \nL 327.029266 130.802922 \nL 328.249161 130.668243 \nL 328.859108 130.793963 \nL 329.469055 130.726959 \nL 330.079002 130.468548 \nL 330.688949 129.828792 \nL 331.298897 129.764448 \nL 331.908844 129.510002 \nL 332.518791 129.446688 \nL 333.738685 128.942705 \nL 334.95858 129.196256 \nL 335.568527 129.134359 \nL 336.788421 129.385351 \nL 338.008315 129.261806 \nL 338.618263 129.571911 \nL 339.22821 129.695319 \nL 339.838157 129.633273 \nL 340.448104 129.940507 \nL 341.058051 130.062275 \nL 341.667998 129.632465 \nL 342.887893 129.510002 \nL 343.49784 129.084218 \nL 344.107787 129.024459 \nL 344.717734 128.601583 \nL 345.327681 128.72442 \nL 345.937629 128.665829 \nL 347.157523 128.909625 \nL 347.76747 129.21046 \nL 348.987365 129.092445 \nL 349.597312 129.390955 \nL 350.207259 129.510002 \nL 350.817206 129.806362 \nL 351.427153 129.746578 \nL 352.0371 129.864121 \nL 352.647048 129.804474 \nL 353.866942 130.389677 \nL 354.476889 129.978172 \nL 355.086836 130.093987 \nL 355.696783 130.384147 \nL 356.306731 130.498633 \nL 357.526625 130.031208 \nL 358.136572 129.972344 \nL 359.356466 130.200632 \nL 359.966414 130.141767 \nL 360.576361 130.427044 \nL 361.186308 130.539554 \nL 361.796255 130.137878 \nL 362.406202 130.079635 \nL 363.016149 129.851086 \nL 363.626097 130.134038 \nL 364.236044 130.245989 \nL 364.845991 130.018496 \nL 365.455938 130.299398 \nL 366.065885 130.241528 \nL 366.675832 130.35236 \nL 367.28578 129.79022 \nL 367.895727 129.733729 \nL 368.505674 129.844922 \nL 369.115621 129.788543 \nL 369.725568 129.565598 \nL 369.725568 129.565598 \n\" clip-path=\"url(#pffe4254166)\" style=\"fill: none; stroke: #9467bd; stroke-width: 1.5; stroke-linecap: square\"/>\n   </g>\n   <g id=\"line2d_18\">\n    <path d=\"M 65.361932 185.105457 \nL 65.971879 18.319091 \nL 66.581826 46.116815 \nL 67.191773 80.86399 \nL 67.80172 85.033645 \nL 68.411668 73.914552 \nL 69.021615 54.059022 \nL 69.631562 60.01569 \nL 70.241509 55.382724 \nL 71.461403 63.806286 \nL 72.071351 80.86399 \nL 72.681298 88.882558 \nL 73.291245 89.798966 \nL 74.511139 101.712277 \nL 75.731034 101.712277 \nL 76.340981 110.490505 \nL 76.950928 110.051599 \nL 77.560875 113.625588 \nL 78.170822 109.29348 \nL 78.780769 108.963866 \nL 79.390717 115.611139 \nL 80.000664 118.390909 \nL 80.610611 114.541996 \nL 81.220558 117.155461 \nL 81.830505 122.560577 \nL 83.0504 115.611139 \nL 84.270294 119.954542 \nL 85.490188 109.070498 \nL 86.100135 106.477599 \nL 86.710083 108.661714 \nL 87.32003 108.473887 \nL 88.539924 112.40371 \nL 89.149871 110.051599 \nL 89.759819 109.848202 \nL 90.369766 113.625588 \nL 90.979713 111.409163 \nL 91.58966 113.084076 \nL 92.199607 110.978185 \nL 92.809554 110.776751 \nL 93.419502 114.132541 \nL 94.029449 113.873783 \nL 95.249343 106.715865 \nL 95.85929 106.617758 \nL 96.469237 108.127137 \nL 97.079185 108.006102 \nL 97.689132 109.433875 \nL 98.299079 107.777242 \nL 99.518973 110.490505 \nL 100.12892 110.339162 \nL 101.348815 112.831369 \nL 101.958762 115.383298 \nL 102.568709 113.817739 \nL 103.178656 113.625588 \nL 103.788603 114.742461 \nL 104.398551 113.259029 \nL 105.008498 115.611139 \nL 105.618445 116.648371 \nL 106.228392 115.202355 \nL 106.838339 116.215442 \nL 107.448286 116.008255 \nL 108.058234 116.981452 \nL 108.668181 116.769381 \nL 109.278128 115.420752 \nL 109.888075 115.235497 \nL 111.717917 121.206791 \nL 112.327864 119.887712 \nL 112.937811 119.657647 \nL 113.547758 121.518163 \nL 114.157705 122.303185 \nL 114.767652 119.001115 \nL 115.987547 120.575025 \nL 116.597494 119.37201 \nL 117.207441 120.136355 \nL 117.817388 118.966035 \nL 118.427335 118.769981 \nL 119.037283 120.452325 \nL 119.64723 119.317508 \nL 120.257177 119.124039 \nL 121.477071 120.543002 \nL 122.087018 119.455504 \nL 122.696966 120.146557 \nL 123.306913 118.217174 \nL 123.91686 118.906748 \nL 124.526807 117.029394 \nL 127.576543 116.285839 \nL 128.18649 114.541996 \nL 129.406384 115.873389 \nL 130.016332 115.741034 \nL 131.236226 117.013786 \nL 131.846173 118.390909 \nL 132.45612 118.991944 \nL 133.676015 118.686114 \nL 134.285962 120.00026 \nL 134.895909 119.841237 \nL 135.505856 121.122762 \nL 136.115803 120.956856 \nL 137.335698 122.034983 \nL 137.945645 121.865634 \nL 138.555592 122.38827 \nL 139.165539 120.851702 \nL 140.385433 119.197952 \nL 140.995381 119.058066 \nL 141.605328 119.582243 \nL 142.215275 119.441537 \nL 142.825222 118.651519 \nL 143.435169 119.166662 \nL 144.045116 118.390909 \nL 144.655064 119.536774 \nL 145.265011 120.033513 \nL 145.874958 119.895752 \nL 146.484905 119.13772 \nL 147.094852 119.008646 \nL 147.704799 119.494648 \nL 148.314747 118.756138 \nL 148.924694 118.632631 \nL 149.534641 119.110854 \nL 150.144588 118.390909 \nL 150.754535 118.272621 \nL 151.364482 116.394174 \nL 152.584377 116.190266 \nL 153.194324 115.515293 \nL 153.804271 115.420752 \nL 154.414218 115.894788 \nL 155.024165 115.798967 \nL 155.634113 116.264105 \nL 156.24406 117.279006 \nL 156.854007 117.175916 \nL 158.073901 118.06388 \nL 158.683848 117.957707 \nL 159.293796 118.928942 \nL 159.903743 118.818569 \nL 161.733584 120.069264 \nL 162.953479 117.769346 \nL 163.563426 117.670231 \nL 164.173373 118.083949 \nL 164.78332 119.001115 \nL 165.393267 118.896334 \nL 166.003214 119.295177 \nL 169.662897 118.681827 \nL 170.272845 118.101694 \nL 170.882792 118.966035 \nL 172.102686 119.71763 \nL 172.712633 119.615894 \nL 173.32258 119.983819 \nL 173.932528 119.881748 \nL 174.542475 118.854208 \nL 175.152422 118.759506 \nL 176.372316 119.484595 \nL 176.982263 118.02834 \nL 177.592211 118.841695 \nL 178.202158 118.749602 \nL 178.812105 119.104442 \nL 179.422052 118.12477 \nL 180.031999 118.479163 \nL 180.641946 117.952003 \nL 181.251894 117.866981 \nL 182.471788 118.56375 \nL 183.081735 116.757439 \nL 184.301629 116.603921 \nL 184.911577 116.951641 \nL 185.521524 115.611139 \nL 186.131471 115.960363 \nL 186.741418 115.055188 \nL 187.961312 115.748751 \nL 188.57126 115.67961 \nL 189.181207 116.428719 \nL 189.791154 116.356931 \nL 190.401101 116.690671 \nL 191.011048 117.424037 \nL 191.620995 117.348496 \nL 192.84089 116.405357 \nL 193.450837 117.126184 \nL 194.060784 116.660114 \nL 194.670731 116.589941 \nL 195.280678 117.299783 \nL 195.890626 116.839417 \nL 196.500573 116.769381 \nL 197.720467 115.866169 \nL 198.330414 115.801539 \nL 198.940361 116.495612 \nL 199.550309 115.67403 \nL 200.770203 116.296737 \nL 201.38015 116.231622 \nL 201.990097 116.537738 \nL 202.600044 117.210126 \nL 203.209992 117.141854 \nL 204.429886 117.735421 \nL 205.039833 117.303176 \nL 205.64978 117.596691 \nL 206.259727 117.16877 \nL 206.869675 117.102437 \nL 207.479622 116.323901 \nL 208.699516 116.200083 \nL 209.309463 116.490815 \nL 209.91941 117.129502 \nL 210.529358 116.716071 \nL 211.139305 116.653553 \nL 211.749252 116.937587 \nL 212.359199 116.18547 \nL 212.969146 116.125909 \nL 213.579093 116.408613 \nL 214.189041 116.34863 \nL 216.018882 118.189152 \nL 216.628829 118.12298 \nL 217.238776 117.390199 \nL 218.458671 117.265772 \nL 219.068618 117.533912 \nL 219.678565 116.814986 \nL 220.288512 116.755749 \nL 220.898459 117.022746 \nL 221.508407 116.963173 \nL 222.728301 117.489363 \nL 224.558142 117.308718 \nL 225.16809 117.566495 \nL 225.778037 116.874671 \nL 227.607878 118.578314 \nL 228.217825 118.826547 \nL 228.827773 119.382958 \nL 229.43772 119.626369 \nL 230.047667 119.56026 \nL 230.657614 119.18806 \nL 231.267561 119.124039 \nL 231.877508 119.364853 \nL 232.487456 119.300657 \nL 233.097403 119.539085 \nL 233.70735 120.076844 \nL 234.317297 119.410831 \nL 234.927244 119.646302 \nL 237.367033 119.392812 \nL 237.97698 119.624195 \nL 239.196874 119.498935 \nL 239.806822 119.727534 \nL 241.636663 119.541161 \nL 242.24661 119.766479 \nL 242.856557 119.419045 \nL 243.466505 119.358615 \nL 244.076452 118.731297 \nL 245.296346 118.052832 \nL 245.906293 118.278598 \nL 248.346082 118.058449 \nL 248.956029 118.556592 \nL 249.565976 118.501008 \nL 251.395818 119.153987 \nL 252.005765 118.553896 \nL 252.615712 119.040731 \nL 253.225659 119.25453 \nL 253.835606 118.659932 \nL 254.445554 118.873581 \nL 255.055501 118.551286 \nL 255.665448 118.497492 \nL 256.275395 118.975193 \nL 257.495289 119.393744 \nL 258.105237 119.337962 \nL 258.715184 119.544789 \nL 259.325131 119.488882 \nL 260.545025 119.897703 \nL 261.154972 119.582243 \nL 261.76492 120.043293 \nL 262.374867 119.471932 \nL 262.984814 119.160697 \nL 263.594761 119.362989 \nL 264.204708 119.309008 \nL 264.814655 119.50961 \nL 267.864391 119.242377 \nL 269.694233 119.830438 \nL 270.30418 120.271593 \nL 270.914127 120.46341 \nL 271.524074 120.900091 \nL 272.134021 121.088925 \nL 273.963863 120.919452 \nL 275.793704 121.475975 \nL 278.233493 121.25011 \nL 278.84344 121.432034 \nL 280.063335 122.265272 \nL 281.283229 122.619305 \nL 281.893176 122.560577 \nL 282.503123 122.735766 \nL 283.11307 123.142935 \nL 283.723018 123.315527 \nL 284.332965 123.718818 \nL 284.942912 123.888863 \nL 285.552859 123.597224 \nL 286.162806 123.536943 \nL 286.772753 123.247877 \nL 287.382701 122.731926 \nL 288.602595 123.071842 \nL 289.212542 123.467019 \nL 290.432436 123.349427 \nL 291.042384 123.515893 \nL 291.652331 123.233102 \nL 292.262278 123.62255 \nL 293.482172 123.505703 \nL 294.092119 123.669522 \nL 294.702067 123.390086 \nL 295.312014 123.332738 \nL 296.531908 123.657854 \nL 297.751802 123.542958 \nL 298.36175 123.268219 \nL 298.971697 123.429255 \nL 300.191591 122.884636 \nL 300.801538 122.829935 \nL 301.411485 122.560577 \nL 302.021433 122.935734 \nL 302.63138 122.881318 \nL 303.241327 122.40061 \nL 304.461221 122.295332 \nL 305.071168 122.031429 \nL 305.681116 122.402238 \nL 306.291063 122.349984 \nL 307.510957 122.665345 \nL 308.120904 122.403816 \nL 308.730851 122.769057 \nL 309.340799 122.924513 \nL 310.560693 122.819235 \nL 311.17064 122.560577 \nL 311.780587 122.715001 \nL 312.390534 122.66327 \nL 313.000482 123.021589 \nL 313.610429 122.96936 \nL 314.830323 123.679265 \nL 316.050217 123.572632 \nL 316.660165 123.721614 \nL 317.270112 123.467019 \nL 317.880059 123.615554 \nL 318.490006 123.96382 \nL 319.7099 124.256366 \nL 320.319848 124.202559 \nL 321.539742 124.491886 \nL 322.149689 124.437906 \nL 322.759636 124.581333 \nL 323.369583 124.527389 \nL 324.589478 125.203319 \nL 325.199425 124.952999 \nL 325.809372 125.288391 \nL 326.419319 125.233429 \nL 327.029266 125.566609 \nL 327.639214 125.704743 \nL 328.249161 125.263128 \nL 328.859108 125.208737 \nL 329.469055 125.538898 \nL 330.079002 125.675839 \nL 330.688949 126.003415 \nL 331.298897 125.947831 \nL 331.908844 126.082883 \nL 333.738685 125.9171 \nL 334.348632 125.673664 \nL 334.95858 125.619584 \nL 335.568527 125.377912 \nL 336.178474 125.699536 \nL 338.618263 125.485837 \nL 339.22821 125.247682 \nL 341.058051 125.091828 \nL 341.667998 125.224009 \nL 342.277946 125.17234 \nL 344.107787 125.564919 \nL 344.717734 125.876316 \nL 345.327681 126.00508 \nL 345.937629 125.952379 \nL 346.547576 125.719406 \nL 347.76747 125.61593 \nL 348.377417 125.923202 \nL 348.987365 125.155427 \nL 349.597312 125.462375 \nL 350.207259 125.411625 \nL 350.817206 125.71671 \nL 352.647048 125.034107 \nL 353.256995 125.161106 \nL 353.866942 125.111636 \nL 354.476889 125.237939 \nL 355.086836 125.188507 \nL 355.696783 125.314127 \nL 356.306731 125.090287 \nL 356.916678 125.38968 \nL 357.526625 125.514082 \nL 358.746519 124.723256 \nL 359.356466 125.020935 \nL 359.966414 124.800475 \nL 360.576361 124.924815 \nL 361.186308 124.877047 \nL 362.406202 125.123888 \nL 363.016149 125.076009 \nL 363.626097 124.858147 \nL 364.236044 124.811 \nL 364.845991 124.933551 \nL 365.455938 125.224755 \nL 366.065885 125.345976 \nL 366.675832 124.961287 \nL 367.895727 125.203319 \nL 368.505674 124.988688 \nL 369.115621 124.607801 \nL 369.725568 124.728799 \nL 369.725568 124.728799 \n\" clip-path=\"url(#pffe4254166)\" style=\"fill: none; stroke: #8c564b; stroke-width: 1.5; stroke-linecap: square\"/>\n   </g>\n   <g id=\"line2d_19\">\n    <path d=\"M 50.14375 129.232028 \nL 384.94375 129.232028 \n\" clip-path=\"url(#pffe4254166)\" style=\"fill: none; stroke-dasharray: 5.55,2.4; stroke-dashoffset: 0; stroke: #000000; stroke-width: 1.5\"/>\n   </g>\n   <g id=\"patch_3\">\n    <path d=\"M 50.14375 251.82 \nL 50.14375 7.2 \n\" style=\"fill: none; stroke: #000000; stroke-width: 0.8; stroke-linejoin: miter; stroke-linecap: square\"/>\n   </g>\n   <g id=\"patch_4\">\n    <path d=\"M 384.94375 251.82 \nL 384.94375 7.2 \n\" style=\"fill: none; stroke: #000000; stroke-width: 0.8; stroke-linejoin: miter; stroke-linecap: square\"/>\n   </g>\n   <g id=\"patch_5\">\n    <path d=\"M 50.14375 251.82 \nL 384.94375 251.82 \n\" style=\"fill: none; stroke: #000000; stroke-width: 0.8; stroke-linejoin: miter; stroke-linecap: square\"/>\n   </g>\n   <g id=\"patch_6\">\n    <path d=\"M 50.14375 7.2 \nL 384.94375 7.2 \n\" style=\"fill: none; stroke: #000000; stroke-width: 0.8; stroke-linejoin: miter; stroke-linecap: square\"/>\n   </g>\n   <g id=\"legend_1\">\n    <g id=\"patch_7\">\n     <path d=\"M 302.089063 103.26875 \nL 377.94375 103.26875 \nQ 379.94375 103.26875 379.94375 101.26875 \nL 379.94375 14.2 \nQ 379.94375 12.2 377.94375 12.2 \nL 302.089063 12.2 \nQ 300.089063 12.2 300.089063 14.2 \nL 300.089063 101.26875 \nQ 300.089063 103.26875 302.089063 103.26875 \nz\n\" style=\"fill: #ffffff; opacity: 0.8; stroke: #cccccc; stroke-linejoin: miter\"/>\n    </g>\n    <g id=\"line2d_20\">\n     <path d=\"M 304.089063 20.298437 \nL 314.089063 20.298437 \nL 324.089063 20.298437 \n\" style=\"fill: none; stroke: #1f77b4; stroke-width: 1.5; stroke-linecap: square\"/>\n    </g>\n    <g id=\"text_15\">\n     <!-- P(die=1) -->\n     <g transform=\"translate(332.089063 23.798437)scale(0.1 -0.1)\">\n      <defs>\n       <path id=\"DejaVuSans-50\" d=\"M 1259 4147 \nL 1259 2394 \nL 2053 2394 \nQ 2494 2394 2734 2622 \nQ 2975 2850 2975 3272 \nQ 2975 3691 2734 3919 \nQ 2494 4147 2053 4147 \nL 1259 4147 \nz\nM 628 4666 \nL 2053 4666 \nQ 2838 4666 3239 4311 \nQ 3641 3956 3641 3272 \nQ 3641 2581 3239 2228 \nQ 2838 1875 2053 1875 \nL 1259 1875 \nL 1259 0 \nL 628 0 \nL 628 4666 \nz\n\" transform=\"scale(0.015625)\"/>\n       <path id=\"DejaVuSans-28\" d=\"M 1984 4856 \nQ 1566 4138 1362 3434 \nQ 1159 2731 1159 2009 \nQ 1159 1288 1364 580 \nQ 1569 -128 1984 -844 \nL 1484 -844 \nQ 1016 -109 783 600 \nQ 550 1309 550 2009 \nQ 550 2706 781 3412 \nQ 1013 4119 1484 4856 \nL 1984 4856 \nz\n\" transform=\"scale(0.015625)\"/>\n       <path id=\"DejaVuSans-3d\" d=\"M 678 2906 \nL 4684 2906 \nL 4684 2381 \nL 678 2381 \nL 678 2906 \nz\nM 678 1631 \nL 4684 1631 \nL 4684 1100 \nL 678 1100 \nL 678 1631 \nz\n\" transform=\"scale(0.015625)\"/>\n       <path id=\"DejaVuSans-29\" d=\"M 513 4856 \nL 1013 4856 \nQ 1481 4119 1714 3412 \nQ 1947 2706 1947 2009 \nQ 1947 1309 1714 600 \nQ 1481 -109 1013 -844 \nL 513 -844 \nQ 928 -128 1133 580 \nQ 1338 1288 1338 2009 \nQ 1338 2731 1133 3434 \nQ 928 4138 513 4856 \nz\n\" transform=\"scale(0.015625)\"/>\n      </defs>\n      <use xlink:href=\"#DejaVuSans-50\"/>\n      <use xlink:href=\"#DejaVuSans-28\" x=\"60.302734\"/>\n      <use xlink:href=\"#DejaVuSans-64\" x=\"99.316406\"/>\n      <use xlink:href=\"#DejaVuSans-69\" x=\"162.792969\"/>\n      <use xlink:href=\"#DejaVuSans-65\" x=\"190.576172\"/>\n      <use xlink:href=\"#DejaVuSans-3d\" x=\"252.099609\"/>\n      <use xlink:href=\"#DejaVuSans-31\" x=\"335.888672\"/>\n      <use xlink:href=\"#DejaVuSans-29\" x=\"399.511719\"/>\n     </g>\n    </g>\n    <g id=\"line2d_21\">\n     <path d=\"M 304.089063 34.976562 \nL 314.089063 34.976562 \nL 324.089063 34.976562 \n\" style=\"fill: none; stroke: #ff7f0e; stroke-width: 1.5; stroke-linecap: square\"/>\n    </g>\n    <g id=\"text_16\">\n     <!-- P(die=2) -->\n     <g transform=\"translate(332.089063 38.476562)scale(0.1 -0.1)\">\n      <use xlink:href=\"#DejaVuSans-50\"/>\n      <use xlink:href=\"#DejaVuSans-28\" x=\"60.302734\"/>\n      <use xlink:href=\"#DejaVuSans-64\" x=\"99.316406\"/>\n      <use xlink:href=\"#DejaVuSans-69\" x=\"162.792969\"/>\n      <use xlink:href=\"#DejaVuSans-65\" x=\"190.576172\"/>\n      <use xlink:href=\"#DejaVuSans-3d\" x=\"252.099609\"/>\n      <use xlink:href=\"#DejaVuSans-32\" x=\"335.888672\"/>\n      <use xlink:href=\"#DejaVuSans-29\" x=\"399.511719\"/>\n     </g>\n    </g>\n    <g id=\"line2d_22\">\n     <path d=\"M 304.089063 49.654687 \nL 314.089063 49.654687 \nL 324.089063 49.654687 \n\" style=\"fill: none; stroke: #2ca02c; stroke-width: 1.5; stroke-linecap: square\"/>\n    </g>\n    <g id=\"text_17\">\n     <!-- P(die=3) -->\n     <g transform=\"translate(332.089063 53.154687)scale(0.1 -0.1)\">\n      <use xlink:href=\"#DejaVuSans-50\"/>\n      <use xlink:href=\"#DejaVuSans-28\" x=\"60.302734\"/>\n      <use xlink:href=\"#DejaVuSans-64\" x=\"99.316406\"/>\n      <use xlink:href=\"#DejaVuSans-69\" x=\"162.792969\"/>\n      <use xlink:href=\"#DejaVuSans-65\" x=\"190.576172\"/>\n      <use xlink:href=\"#DejaVuSans-3d\" x=\"252.099609\"/>\n      <use xlink:href=\"#DejaVuSans-33\" x=\"335.888672\"/>\n      <use xlink:href=\"#DejaVuSans-29\" x=\"399.511719\"/>\n     </g>\n    </g>\n    <g id=\"line2d_23\">\n     <path d=\"M 304.089063 64.332812 \nL 314.089063 64.332812 \nL 324.089063 64.332812 \n\" style=\"fill: none; stroke: #d62728; stroke-width: 1.5; stroke-linecap: square\"/>\n    </g>\n    <g id=\"text_18\">\n     <!-- P(die=4) -->\n     <g transform=\"translate(332.089063 67.832812)scale(0.1 -0.1)\">\n      <use xlink:href=\"#DejaVuSans-50\"/>\n      <use xlink:href=\"#DejaVuSans-28\" x=\"60.302734\"/>\n      <use xlink:href=\"#DejaVuSans-64\" x=\"99.316406\"/>\n      <use xlink:href=\"#DejaVuSans-69\" x=\"162.792969\"/>\n      <use xlink:href=\"#DejaVuSans-65\" x=\"190.576172\"/>\n      <use xlink:href=\"#DejaVuSans-3d\" x=\"252.099609\"/>\n      <use xlink:href=\"#DejaVuSans-34\" x=\"335.888672\"/>\n      <use xlink:href=\"#DejaVuSans-29\" x=\"399.511719\"/>\n     </g>\n    </g>\n    <g id=\"line2d_24\">\n     <path d=\"M 304.089063 79.010937 \nL 314.089063 79.010937 \nL 324.089063 79.010937 \n\" style=\"fill: none; stroke: #9467bd; stroke-width: 1.5; stroke-linecap: square\"/>\n    </g>\n    <g id=\"text_19\">\n     <!-- P(die=5) -->\n     <g transform=\"translate(332.089063 82.510937)scale(0.1 -0.1)\">\n      <use xlink:href=\"#DejaVuSans-50\"/>\n      <use xlink:href=\"#DejaVuSans-28\" x=\"60.302734\"/>\n      <use xlink:href=\"#DejaVuSans-64\" x=\"99.316406\"/>\n      <use xlink:href=\"#DejaVuSans-69\" x=\"162.792969\"/>\n      <use xlink:href=\"#DejaVuSans-65\" x=\"190.576172\"/>\n      <use xlink:href=\"#DejaVuSans-3d\" x=\"252.099609\"/>\n      <use xlink:href=\"#DejaVuSans-35\" x=\"335.888672\"/>\n      <use xlink:href=\"#DejaVuSans-29\" x=\"399.511719\"/>\n     </g>\n    </g>\n    <g id=\"line2d_25\">\n     <path d=\"M 304.089063 93.689062 \nL 314.089063 93.689062 \nL 324.089063 93.689062 \n\" style=\"fill: none; stroke: #8c564b; stroke-width: 1.5; stroke-linecap: square\"/>\n    </g>\n    <g id=\"text_20\">\n     <!-- P(die=6) -->\n     <g transform=\"translate(332.089063 97.189062)scale(0.1 -0.1)\">\n      <defs>\n       <path id=\"DejaVuSans-36\" d=\"M 2113 2584 \nQ 1688 2584 1439 2293 \nQ 1191 2003 1191 1497 \nQ 1191 994 1439 701 \nQ 1688 409 2113 409 \nQ 2538 409 2786 701 \nQ 3034 994 3034 1497 \nQ 3034 2003 2786 2293 \nQ 2538 2584 2113 2584 \nz\nM 3366 4563 \nL 3366 3988 \nQ 3128 4100 2886 4159 \nQ 2644 4219 2406 4219 \nQ 1781 4219 1451 3797 \nQ 1122 3375 1075 2522 \nQ 1259 2794 1537 2939 \nQ 1816 3084 2150 3084 \nQ 2853 3084 3261 2657 \nQ 3669 2231 3669 1497 \nQ 3669 778 3244 343 \nQ 2819 -91 2113 -91 \nQ 1303 -91 875 529 \nQ 447 1150 447 2328 \nQ 447 3434 972 4092 \nQ 1497 4750 2381 4750 \nQ 2619 4750 2861 4703 \nQ 3103 4656 3366 4563 \nz\n\" transform=\"scale(0.015625)\"/>\n      </defs>\n      <use xlink:href=\"#DejaVuSans-50\"/>\n      <use xlink:href=\"#DejaVuSans-28\" x=\"60.302734\"/>\n      <use xlink:href=\"#DejaVuSans-64\" x=\"99.316406\"/>\n      <use xlink:href=\"#DejaVuSans-69\" x=\"162.792969\"/>\n      <use xlink:href=\"#DejaVuSans-65\" x=\"190.576172\"/>\n      <use xlink:href=\"#DejaVuSans-3d\" x=\"252.099609\"/>\n      <use xlink:href=\"#DejaVuSans-36\" x=\"335.888672\"/>\n      <use xlink:href=\"#DejaVuSans-29\" x=\"399.511719\"/>\n     </g>\n    </g>\n   </g>\n  </g>\n </g>\n <defs>\n  <clipPath id=\"pffe4254166\">\n   <rect x=\"50.14375\" y=\"7.2\" width=\"334.8\" height=\"244.62\"/>\n  </clipPath>\n </defs>\n</svg>\n",
      "text/plain": [
       "<Figure size 432x324 with 1 Axes>"
      ]
     },
     "metadata": {
      "needs_background": "light"
     },
     "output_type": "display_data"
    }
   ],
   "source": [
    "cum_counts = counts.cumsum(dim=0)\n",
    "estimates = cum_counts / cum_counts.sum(dim=1, keepdims=True)\n",
    "\n",
    "d2l.set_figsize((6, 4.5))\n",
    "for i in range(6):\n",
    "    d2l.plt.plot(estimates[:, i].numpy(),\n",
    "                 label=(\"P(die=\" + str(i + 1) + \")\"))\n",
    "d2l.plt.axhline(y=0.167, color='black', linestyle='dashed')\n",
    "d2l.plt.gca().set_xlabel('Groups of experiments')\n",
    "d2l.plt.gca().set_ylabel('Estimated probability')\n",
    "d2l.plt.legend();"
   ]
  },
  {
   "cell_type": "code",
   "execution_count": 10,
   "metadata": {},
   "outputs": [
    {
     "name": "stdout",
     "output_type": "stream",
     "text": [
      "['AbsTransform', 'AffineTransform', 'Bernoulli', 'Beta', 'Binomial', 'CatTransform', 'Categorical', 'Cauchy', 'Chi2', 'ComposeTransform', 'ContinuousBernoulli', 'CorrCholeskyTransform', 'CumulativeDistributionTransform', 'Dirichlet', 'Distribution', 'ExpTransform', 'Exponential', 'ExponentialFamily', 'FisherSnedecor', 'Gamma', 'Geometric', 'Gumbel', 'HalfCauchy', 'HalfNormal', 'Independent', 'IndependentTransform', 'Kumaraswamy', 'LKJCholesky', 'Laplace', 'LogNormal', 'LogisticNormal', 'LowRankMultivariateNormal', 'LowerCholeskyTransform', 'MixtureSameFamily', 'Multinomial', 'MultivariateNormal', 'NegativeBinomial', 'Normal', 'OneHotCategorical', 'OneHotCategoricalStraightThrough', 'Pareto', 'Poisson', 'PowerTransform', 'RelaxedBernoulli', 'RelaxedOneHotCategorical', 'ReshapeTransform', 'SigmoidTransform', 'SoftmaxTransform', 'SoftplusTransform', 'StackTransform', 'StickBreakingTransform', 'StudentT', 'TanhTransform', 'Transform', 'TransformedDistribution', 'Uniform', 'VonMises', 'Weibull', 'Wishart', '__all__', '__builtins__', '__cached__', '__doc__', '__file__', '__loader__', '__name__', '__package__', '__path__', '__spec__', 'bernoulli', 'beta', 'biject_to', 'binomial', 'categorical', 'cauchy', 'chi2', 'constraint_registry', 'constraints', 'continuous_bernoulli', 'dirichlet', 'distribution', 'exp_family', 'exponential', 'fishersnedecor', 'gamma', 'geometric', 'gumbel', 'half_cauchy', 'half_normal', 'identity_transform', 'independent', 'kl', 'kl_divergence', 'kumaraswamy', 'laplace', 'lkj_cholesky', 'log_normal', 'logistic_normal', 'lowrank_multivariate_normal', 'mixture_same_family', 'multinomial', 'multivariate_normal', 'negative_binomial', 'normal', 'one_hot_categorical', 'pareto', 'poisson', 'register_kl', 'relaxed_bernoulli', 'relaxed_categorical', 'studentT', 'transform_to', 'transformed_distribution', 'transforms', 'uniform', 'utils', 'von_mises', 'weibull', 'wishart']\n"
     ]
    }
   ],
   "source": [
    "import torch\n",
    "print(dir(torch.distributions))"
   ]
  },
  {
   "cell_type": "code",
   "execution_count": 11,
   "metadata": {},
   "outputs": [
    {
     "name": "stdout",
     "output_type": "stream",
     "text": [
      "Help on built-in function ones in module torch:\n",
      "\n",
      "ones(...)\n",
      "    ones(*size, *, out=None, dtype=None, layout=torch.strided, device=None, requires_grad=False) -> Tensor\n",
      "    \n",
      "    Returns a tensor filled with the scalar value `1`, with the shape defined\n",
      "    by the variable argument :attr:`size`.\n",
      "    \n",
      "    Args:\n",
      "        size (int...): a sequence of integers defining the shape of the output tensor.\n",
      "            Can be a variable number of arguments or a collection like a list or tuple.\n",
      "    \n",
      "    Keyword arguments:\n",
      "        out (Tensor, optional): the output tensor.\n",
      "        dtype (:class:`torch.dtype`, optional): the desired data type of returned tensor.\n",
      "            Default: if ``None``, uses a global default (see :func:`torch.set_default_tensor_type`).\n",
      "        layout (:class:`torch.layout`, optional): the desired layout of returned Tensor.\n",
      "            Default: ``torch.strided``.\n",
      "        device (:class:`torch.device`, optional): the desired device of returned tensor.\n",
      "            Default: if ``None``, uses the current device for the default tensor type\n",
      "            (see :func:`torch.set_default_tensor_type`). :attr:`device` will be the CPU\n",
      "            for CPU tensor types and the current CUDA device for CUDA tensor types.\n",
      "        requires_grad (bool, optional): If autograd should record operations on the\n",
      "            returned tensor. Default: ``False``.\n",
      "    \n",
      "    Example::\n",
      "    \n",
      "        >>> torch.ones(2, 3)\n",
      "        tensor([[ 1.,  1.,  1.],\n",
      "                [ 1.,  1.,  1.]])\n",
      "    \n",
      "        >>> torch.ones(5)\n",
      "        tensor([ 1.,  1.,  1.,  1.,  1.])\n",
      "\n"
     ]
    }
   ],
   "source": [
    "help(torch.ones)"
   ]
  }
 ],
 "metadata": {
  "kernelspec": {
   "display_name": "Python 3.9.12 ('base')",
   "language": "python",
   "name": "python3"
  },
  "language_info": {
   "codemirror_mode": {
    "name": "ipython",
    "version": 3
   },
   "file_extension": ".py",
   "mimetype": "text/x-python",
   "name": "python",
   "nbconvert_exporter": "python",
   "pygments_lexer": "ipython3",
   "version": "3.9.12"
  },
  "orig_nbformat": 4,
  "vscode": {
   "interpreter": {
    "hash": "57bc2b6ce032b5f0e93daa91901b7ea38a856826ef43aa9e95b6d3999f5310df"
   }
  }
 },
 "nbformat": 4,
 "nbformat_minor": 2
}
