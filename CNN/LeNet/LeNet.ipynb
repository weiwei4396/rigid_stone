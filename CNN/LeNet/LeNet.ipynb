{
 "cells": [
  {
   "cell_type": "code",
   "execution_count": null,
   "metadata": {},
   "outputs": [],
   "source": [
    "# 每个卷积核(不只是个矩阵，多通道)与输入层计算得到的输出层是个矩阵，卷积核的个数就是最终的输出层的通道数\n",
    "# 也就是说  卷积核的channel与输入层的channel个数是相同的\n",
    "# 输出的特征矩阵的个数(channel数)与卷积核的个数是相同的"
   ]
  },
  {
   "cell_type": "code",
   "execution_count": null,
   "metadata": {},
   "outputs": [],
   "source": [
    "# 1998 LeCun 提出的网络是 LeNet 两层卷积 三个全连接层 \n",
    "# 灰度图像\n",
    "# 很关键的一点是 在pytorch中Tensor的通道排序是 [batch, channel, height, width]"
   ]
  },
  {
   "cell_type": "code",
   "execution_count": 20,
   "metadata": {},
   "outputs": [],
   "source": [
    "import torch\n",
    "import torchvision\n",
    "import torch.nn as nn\n",
    "import torch.optim as optim\n",
    "import torchvision.transforms as transforms\n",
    "import torch.nn.functional as F\n",
    "import matplotlib.pyplot as plt\n",
    "import numpy as np\n",
    "from PIL import Image"
   ]
  },
  {
   "cell_type": "code",
   "execution_count": null,
   "metadata": {},
   "outputs": [],
   "source": [
    "# 搭建模型 首先要定义一个类，这个类要继承nn.Module父类，类中实现两个方法，一、初始化函数，放置搭建网络中实现的网络层结构；二、正向传播函数，在里面实现反向传播的过程；\n",
    "# 将类实例化的过程中，参数会传入到正向传播函数，按照forward函数中的顺序运行；"
   ]
  },
  {
   "cell_type": "code",
   "execution_count": 2,
   "metadata": {},
   "outputs": [],
   "source": [
    "class LeNet(nn.Module):\n",
    "    def __init__(self) :                   #定义初始化函数\n",
    "        super(LeNet, self).__init__()      #定义模型过程中，继承了nn.Module类，super()可以解决多继承过程中调用父类的过程中可能出现的问题\n",
    "        self.conv1 = nn.Conv2d(3, 16, 5)   #涉及到多继承，一般都会使用super()\n",
    "        # 输入通道是3层，彩色图片，输出通道是16层，也就是有16个卷积核，卷积核大小是5*5\n",
    "        self.pool1 = nn.MaxPool2d(2, 2)\n",
    "        # 池化核为2*2，步长为2\n",
    "        self.conv2 = nn.Conv2d(16, 32, 5)\n",
    "        self.pool2 = nn.MaxPool2d(2, 2)\n",
    "        self.fc1 = nn.Linear(32*5*5, 120)\n",
    "        # 三个全连接层，输入维度和输出维度,第一层全连接层之前需要展平\n",
    "        self.fc2 = nn.Linear(120, 84)\n",
    "        self.fc3 = nn.Linear(84, 10)\n",
    "\n",
    "    def forward(self, x):\n",
    "        x = F.relu(self.conv1(x))          # input (3, 32, 32) 计算一下输出维度(32-5+2*0)/1 + 1 = 28 输入32 核大小5 padding0 步长1 output (16, 28, 28)\n",
    "        x = self.pool1(x)                  # output (16, 14, 14)\n",
    "        x = F.relu(self.conv2(x))          # 计算一下输出维度(14-5+2*0)/1+1 = 10 output (32, 10,10)\n",
    "        x = self.pool2(x)                  # output (32, 5, 5)\n",
    "        x = x.view(-1, 32*5*5)             # output (32*5*5)\n",
    "        # 展成一维向量 相当于reshape\n",
    "        x = F.relu(self.fc1(x))            # output (120)\n",
    "        x = F.relu(self.fc2(x))            # output (84)\n",
    "        x = self.fc3(x)                    # output (10)\n",
    "        return x\n"
   ]
  },
  {
   "cell_type": "code",
   "execution_count": 5,
   "metadata": {},
   "outputs": [],
   "source": [
    "# 模型使用的数据集CIFAR-10 很小的图像 有10个类别\n",
    "transform = transforms.Compose(\n",
    "    [transforms.ToTensor(),\n",
    "     transforms.Normalize((0.5, 0.5, 0.5),(0.5, 0.5, 0.5))])"
   ]
  },
  {
   "cell_type": "code",
   "execution_count": 6,
   "metadata": {},
   "outputs": [
    {
     "name": "stdout",
     "output_type": "stream",
     "text": [
      "Downloading https://www.cs.toronto.edu/~kriz/cifar-10-python.tar.gz to F:/download_dataset\\cifar-10-python.tar.gz\n"
     ]
    },
    {
     "data": {
      "application/vnd.jupyter.widget-view+json": {
       "model_id": "532a7697f233429ab9acf786a52b720a",
       "version_major": 2,
       "version_minor": 0
      },
      "text/plain": [
       "  0%|          | 0/170498071 [00:00<?, ?it/s]"
      ]
     },
     "metadata": {},
     "output_type": "display_data"
    },
    {
     "name": "stdout",
     "output_type": "stream",
     "text": [
      "Extracting F:/download_dataset\\cifar-10-python.tar.gz to F:/download_dataset\n"
     ]
    }
   ],
   "source": [
    "trainset = torchvision.datasets.CIFAR10(root='F:/download_dataset', train=True, download=False, transform=transform) #train=True表明导入的训练集 包含50000张训练图片\n",
    "trainloader = torch.utils.data.DataLoader(trainset, batch_size=36, shuffle=True, num_workers=0) #windows下设置为0以外的其他数会报错"
   ]
  },
  {
   "cell_type": "code",
   "execution_count": 10,
   "metadata": {},
   "outputs": [],
   "source": [
    "testnet = torchvision.datasets.CIFAR10(root='F:/download_dataset', train=False, download=False, transform=transform) #train=False表明导入的测试集, 包含10000张测试图片\n",
    "testloader = torch.utils.data.DataLoader(testnet, batch_size=10000, shuffle=True, num_workers=0)"
   ]
  },
  {
   "cell_type": "code",
   "execution_count": 11,
   "metadata": {},
   "outputs": [],
   "source": [
    "test_data_iter = iter(testloader)\n",
    "test_image, test_label = test_data_iter.next()"
   ]
  },
  {
   "cell_type": "code",
   "execution_count": 28,
   "metadata": {},
   "outputs": [],
   "source": [
    "classes = ('plane', 'car', 'bird', 'cat','deer', 'dog', 'frog', 'horse', 'ship', 'truck')"
   ]
  },
  {
   "cell_type": "code",
   "execution_count": 13,
   "metadata": {},
   "outputs": [],
   "source": [
    "# 实例化模型\n",
    "net = LeNet()\n",
    "# 损失函数\n",
    "loss_function = nn.CrossEntropyLoss()\n",
    "# 优化器\n",
    "optimizer = optim.Adam(net.parameters(), lr=0.001)"
   ]
  },
  {
   "cell_type": "code",
   "execution_count": 17,
   "metadata": {},
   "outputs": [
    {
     "name": "stdout",
     "output_type": "stream",
     "text": [
      "[1,   500] train loss:1.292 test accuracy:0.552\n",
      "[1,  1000] train loss:1.234 test accuracy:0.575\n",
      "[2,   500] train loss:1.097 test accuracy:0.581\n",
      "[2,  1000] train loss:1.066 test accuracy:0.621\n",
      "[3,   500] train loss:0.972 test accuracy:0.639\n",
      "[3,  1000] train loss:0.962 test accuracy:0.641\n",
      "[4,   500] train loss:0.896 test accuracy:0.660\n",
      "[4,  1000] train loss:0.886 test accuracy:0.657\n",
      "[5,   500] train loss:0.819 test accuracy:0.660\n",
      "[5,  1000] train loss:0.822 test accuracy:0.670\n",
      "Finished training!\n"
     ]
    }
   ],
   "source": [
    "for epoch in range(5):\n",
    "    running_loss = 0\n",
    "    for step, data in enumerate(trainloader, start=0):\n",
    "\n",
    "        inputs, labels = data\n",
    "        optimizer.zero_grad()\n",
    "\n",
    "        outputs = net(inputs)\n",
    "        loss = loss_function(outputs, labels)\n",
    "        loss.backward()\n",
    "        optimizer.step()\n",
    "\n",
    "        running_loss += loss.item()\n",
    "        if step % 500 == 499:\n",
    "            with torch.no_grad():\n",
    "                # with范围内所有的计算都不会计算梯度\n",
    "                outputs = net(test_image)\n",
    "                predict_y = torch.max(outputs, dim=1)[1]\n",
    "                accuracy = (predict_y == test_label).sum().item() / test_label.size(0)\n",
    "                print(('[%d, %5d] train loss:%.3f test accuracy:%.3f')%(epoch+1, step+1, running_loss/500, accuracy))\n",
    "                running_loss = 0\n",
    "print(\"Finished training!\")"
   ]
  },
  {
   "cell_type": "code",
   "execution_count": 18,
   "metadata": {},
   "outputs": [],
   "source": [
    "# 可以保存一下网络的参数\n",
    "#save_path = 'F:/download_dataset/LeNet.pth'\n",
    "#torch.save(net.state_dict(), save_path)"
   ]
  },
  {
   "cell_type": "code",
   "execution_count": 37,
   "metadata": {},
   "outputs": [],
   "source": [
    "# 保存了参数之后，当有一张新的图片，我们可以加载参数，然后做预测\n",
    "net = LeNet()\n",
    "net.load_state_dict(torch.load('F:/download_dataset/LeNet.pth'))\n",
    "im = Image.open('F:/download_dataset/ppww.png').convert('RGB')\n",
    "transform = transforms.Compose(\n",
    "    [transforms.Resize((32,32)),\n",
    "    transforms.ToTensor(),\n",
    "    transforms.Normalize((0.5, 0.5, 0.5),(0.5, 0.5, 0.5))])\n",
    "im = transform(im)\n",
    "#缺少一个batch的维度，给它增加一个batch的维度\n",
    "im = torch.unsqueeze(im, dim=0)"
   ]
  },
  {
   "cell_type": "code",
   "execution_count": 38,
   "metadata": {},
   "outputs": [
    {
     "name": "stdout",
     "output_type": "stream",
     "text": [
      "dog\n"
     ]
    }
   ],
   "source": [
    "with torch.no_grad():\n",
    "    outputs = net(im)\n",
    "    predict = torch.max(outputs, dim=1)[1].data.numpy()\n",
    "print(classes[int(predict)])"
   ]
  },
  {
   "cell_type": "code",
   "execution_count": null,
   "metadata": {},
   "outputs": [],
   "source": []
  }
 ],
 "metadata": {
  "kernelspec": {
   "display_name": "Python 3.9.12 ('base')",
   "language": "python",
   "name": "python3"
  },
  "language_info": {
   "codemirror_mode": {
    "name": "ipython",
    "version": 3
   },
   "file_extension": ".py",
   "mimetype": "text/x-python",
   "name": "python",
   "nbconvert_exporter": "python",
   "pygments_lexer": "ipython3",
   "version": "3.9.12"
  },
  "orig_nbformat": 4,
  "vscode": {
   "interpreter": {
    "hash": "57bc2b6ce032b5f0e93daa91901b7ea38a856826ef43aa9e95b6d3999f5310df"
   }
  }
 },
 "nbformat": 4,
 "nbformat_minor": 2
}
